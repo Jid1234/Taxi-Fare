{
  "cells": [
    {
      "cell_type": "code",
      "execution_count": 285,
      "metadata": {
        "id": "9kf0YC2NrkmQ"
      },
      "outputs": [],
      "source": [
        "import numpy as np\n",
        "import pandas as pd\n",
        "import seaborn as sns\n",
        "from matplotlib import pyplot as plt\n",
        "from sklearn.linear_model import LinearRegression\n",
        "from sklearn.model_selection import train_test_split\n",
        "import warnings\n",
        "warnings.filterwarnings('ignore')"
      ]
    },
    {
      "cell_type": "code",
      "execution_count": 286,
      "metadata": {
        "id": "oxqZ8izWsB7W"
      },
      "outputs": [],
      "source": [
        "tf=pd.read_csv(\"https://raw.githubusercontent.com/Premalatha-success/Datasets/main/TaxiFare.csv\")\n",
        "tf_1=pd.read_csv(\"test.csv\")"
      ]
    },
    {
      "cell_type": "code",
      "execution_count": 287,
      "metadata": {
        "colab": {
          "base_uri": "https://localhost:8080/"
        },
        "id": "zNrP_J3BsMlW",
        "outputId": "845469c5-4573-4201-c861-d168481f05ae"
      },
      "outputs": [
        {
          "output_type": "stream",
          "name": "stdout",
          "text": [
            "  unique_id  amount      date_time_of_pickup  longitude_of_pickup  \\\n",
            "0   26:21.0     4.5  2009-06-15 17:26:21 UTC           -73.844311   \n",
            "1   52:16.0    16.9  2010-01-05 16:52:16 UTC           -74.016048   \n",
            "2   35:00.0     5.7  2011-08-18 00:35:00 UTC           -73.982738   \n",
            "3   30:42.0     7.7  2012-04-21 04:30:42 UTC           -73.987130   \n",
            "4   51:00.0     5.3  2010-03-09 07:51:00 UTC           -73.968095   \n",
            "\n",
            "   latitude_of_pickup  longitude_of_dropoff  latitude_of_dropoff  \\\n",
            "0           40.721319            -73.841610            40.712278   \n",
            "1           40.711303            -73.979268            40.782004   \n",
            "2           40.761270            -73.991242            40.750562   \n",
            "3           40.733143            -73.991567            40.758092   \n",
            "4           40.768008            -73.956655            40.783762   \n",
            "\n",
            "   no_of_passenger  \n",
            "0                1  \n",
            "1                1  \n",
            "2                2  \n",
            "3                1  \n",
            "4                1                              key          pickup_datetime  pickup_longitude  \\\n",
            "0  2015-01-27 13:08:24.0000002  2015-01-27 13:08:24 UTC        -73.973320   \n",
            "1  2015-01-27 13:08:24.0000003  2015-01-27 13:08:24 UTC        -73.986862   \n",
            "2  2011-10-08 11:53:44.0000002  2011-10-08 11:53:44 UTC        -73.982524   \n",
            "3  2012-12-01 21:12:12.0000002  2012-12-01 21:12:12 UTC        -73.981160   \n",
            "4  2012-12-01 21:12:12.0000003  2012-12-01 21:12:12 UTC        -73.966046   \n",
            "\n",
            "   pickup_latitude  dropoff_longitude  dropoff_latitude  passenger_count  \n",
            "0        40.763805         -73.981430         40.743835                1  \n",
            "1        40.719383         -73.998886         40.739201                1  \n",
            "2        40.751260         -73.979654         40.746139                1  \n",
            "3        40.767807         -73.990448         40.751635                1  \n",
            "4        40.789775         -73.988565         40.744427                1  \n"
          ]
        }
      ],
      "source": [
        "print(tf.head(),tf_1.head())"
      ]
    },
    {
      "cell_type": "code",
      "execution_count": 288,
      "metadata": {
        "colab": {
          "base_uri": "https://localhost:8080/"
        },
        "id": "hg0viwOjsY-u",
        "outputId": "d885e920-b210-42a2-e66e-c2c556beb2a6"
      },
      "outputs": [
        {
          "output_type": "stream",
          "name": "stdout",
          "text": [
            "(50000, 8) (9914, 7)\n"
          ]
        }
      ],
      "source": [
        "print(tf.shape,tf_1.shape)"
      ]
    },
    {
      "cell_type": "code",
      "execution_count": 289,
      "metadata": {
        "colab": {
          "base_uri": "https://localhost:8080/"
        },
        "id": "Q9q1O8inselH",
        "outputId": "578d375b-901b-4ee8-a453-6a5a01112679"
      },
      "outputs": [
        {
          "output_type": "stream",
          "name": "stdout",
          "text": [
            "unique_id               0\n",
            "amount                  0\n",
            "date_time_of_pickup     0\n",
            "longitude_of_pickup     0\n",
            "latitude_of_pickup      0\n",
            "longitude_of_dropoff    0\n",
            "latitude_of_dropoff     0\n",
            "no_of_passenger         0\n",
            "dtype: int64 key                  0\n",
            "pickup_datetime      0\n",
            "pickup_longitude     0\n",
            "pickup_latitude      0\n",
            "dropoff_longitude    0\n",
            "dropoff_latitude     0\n",
            "passenger_count      0\n",
            "dtype: int64\n"
          ]
        }
      ],
      "source": [
        "print(tf.isnull().sum(),tf_1.isnull().sum())"
      ]
    },
    {
      "cell_type": "code",
      "execution_count": 290,
      "metadata": {
        "colab": {
          "base_uri": "https://localhost:8080/"
        },
        "id": "7jKF77NDsn9y",
        "outputId": "c30954bd-1f8b-4400-a41f-e0e3c9fe247e"
      },
      "outputs": [
        {
          "output_type": "stream",
          "name": "stdout",
          "text": [
            "unique_id                object\n",
            "amount                  float64\n",
            "date_time_of_pickup      object\n",
            "longitude_of_pickup     float64\n",
            "latitude_of_pickup      float64\n",
            "longitude_of_dropoff    float64\n",
            "latitude_of_dropoff     float64\n",
            "no_of_passenger           int64\n",
            "dtype: object key                   object\n",
            "pickup_datetime       object\n",
            "pickup_longitude     float64\n",
            "pickup_latitude      float64\n",
            "dropoff_longitude    float64\n",
            "dropoff_latitude     float64\n",
            "passenger_count        int64\n",
            "dtype: object\n"
          ]
        }
      ],
      "source": [
        "print(tf.dtypes,tf_1.dtypes)"
      ]
    },
    {
      "cell_type": "code",
      "execution_count": 291,
      "metadata": {
        "id": "60Vdbvhts2oK"
      },
      "outputs": [],
      "source": [
        "tf.drop(\"unique_id\",axis=1,inplace=True)"
      ]
    },
    {
      "cell_type": "code",
      "execution_count": 292,
      "metadata": {
        "id": "MZD6QwhOtdHl"
      },
      "outputs": [],
      "source": [
        "tf.drop(\"date_time_of_pickup\",axis=1,inplace=True)\n",
        "tf_1.drop(\"pickup_datetime\",axis=1,inplace=True)"
      ]
    },
    {
      "cell_type": "code",
      "execution_count": 293,
      "metadata": {
        "colab": {
          "base_uri": "https://localhost:8080/",
          "height": 206
        },
        "id": "6NIyk4VdtqAI",
        "outputId": "1dd4c8ad-7590-4066-ecaf-2f30db52f0cf"
      },
      "outputs": [
        {
          "output_type": "execute_result",
          "data": {
            "text/plain": [
              "   amount  longitude_of_pickup  latitude_of_pickup  longitude_of_dropoff  \\\n",
              "0     4.5           -73.844311           40.721319            -73.841610   \n",
              "1    16.9           -74.016048           40.711303            -73.979268   \n",
              "2     5.7           -73.982738           40.761270            -73.991242   \n",
              "3     7.7           -73.987130           40.733143            -73.991567   \n",
              "4     5.3           -73.968095           40.768008            -73.956655   \n",
              "\n",
              "   latitude_of_dropoff  no_of_passenger  \n",
              "0            40.712278                1  \n",
              "1            40.782004                1  \n",
              "2            40.750562                2  \n",
              "3            40.758092                1  \n",
              "4            40.783762                1  "
            ],
            "text/html": [
              "\n",
              "  <div id=\"df-ecfd3ca0-5906-401b-9782-f5fc857ab975\">\n",
              "    <div class=\"colab-df-container\">\n",
              "      <div>\n",
              "<style scoped>\n",
              "    .dataframe tbody tr th:only-of-type {\n",
              "        vertical-align: middle;\n",
              "    }\n",
              "\n",
              "    .dataframe tbody tr th {\n",
              "        vertical-align: top;\n",
              "    }\n",
              "\n",
              "    .dataframe thead th {\n",
              "        text-align: right;\n",
              "    }\n",
              "</style>\n",
              "<table border=\"1\" class=\"dataframe\">\n",
              "  <thead>\n",
              "    <tr style=\"text-align: right;\">\n",
              "      <th></th>\n",
              "      <th>amount</th>\n",
              "      <th>longitude_of_pickup</th>\n",
              "      <th>latitude_of_pickup</th>\n",
              "      <th>longitude_of_dropoff</th>\n",
              "      <th>latitude_of_dropoff</th>\n",
              "      <th>no_of_passenger</th>\n",
              "    </tr>\n",
              "  </thead>\n",
              "  <tbody>\n",
              "    <tr>\n",
              "      <th>0</th>\n",
              "      <td>4.5</td>\n",
              "      <td>-73.844311</td>\n",
              "      <td>40.721319</td>\n",
              "      <td>-73.841610</td>\n",
              "      <td>40.712278</td>\n",
              "      <td>1</td>\n",
              "    </tr>\n",
              "    <tr>\n",
              "      <th>1</th>\n",
              "      <td>16.9</td>\n",
              "      <td>-74.016048</td>\n",
              "      <td>40.711303</td>\n",
              "      <td>-73.979268</td>\n",
              "      <td>40.782004</td>\n",
              "      <td>1</td>\n",
              "    </tr>\n",
              "    <tr>\n",
              "      <th>2</th>\n",
              "      <td>5.7</td>\n",
              "      <td>-73.982738</td>\n",
              "      <td>40.761270</td>\n",
              "      <td>-73.991242</td>\n",
              "      <td>40.750562</td>\n",
              "      <td>2</td>\n",
              "    </tr>\n",
              "    <tr>\n",
              "      <th>3</th>\n",
              "      <td>7.7</td>\n",
              "      <td>-73.987130</td>\n",
              "      <td>40.733143</td>\n",
              "      <td>-73.991567</td>\n",
              "      <td>40.758092</td>\n",
              "      <td>1</td>\n",
              "    </tr>\n",
              "    <tr>\n",
              "      <th>4</th>\n",
              "      <td>5.3</td>\n",
              "      <td>-73.968095</td>\n",
              "      <td>40.768008</td>\n",
              "      <td>-73.956655</td>\n",
              "      <td>40.783762</td>\n",
              "      <td>1</td>\n",
              "    </tr>\n",
              "  </tbody>\n",
              "</table>\n",
              "</div>\n",
              "      <button class=\"colab-df-convert\" onclick=\"convertToInteractive('df-ecfd3ca0-5906-401b-9782-f5fc857ab975')\"\n",
              "              title=\"Convert this dataframe to an interactive table.\"\n",
              "              style=\"display:none;\">\n",
              "        \n",
              "  <svg xmlns=\"http://www.w3.org/2000/svg\" height=\"24px\"viewBox=\"0 0 24 24\"\n",
              "       width=\"24px\">\n",
              "    <path d=\"M0 0h24v24H0V0z\" fill=\"none\"/>\n",
              "    <path d=\"M18.56 5.44l.94 2.06.94-2.06 2.06-.94-2.06-.94-.94-2.06-.94 2.06-2.06.94zm-11 1L8.5 8.5l.94-2.06 2.06-.94-2.06-.94L8.5 2.5l-.94 2.06-2.06.94zm10 10l.94 2.06.94-2.06 2.06-.94-2.06-.94-.94-2.06-.94 2.06-2.06.94z\"/><path d=\"M17.41 7.96l-1.37-1.37c-.4-.4-.92-.59-1.43-.59-.52 0-1.04.2-1.43.59L10.3 9.45l-7.72 7.72c-.78.78-.78 2.05 0 2.83L4 21.41c.39.39.9.59 1.41.59.51 0 1.02-.2 1.41-.59l7.78-7.78 2.81-2.81c.8-.78.8-2.07 0-2.86zM5.41 20L4 18.59l7.72-7.72 1.47 1.35L5.41 20z\"/>\n",
              "  </svg>\n",
              "      </button>\n",
              "      \n",
              "  <style>\n",
              "    .colab-df-container {\n",
              "      display:flex;\n",
              "      flex-wrap:wrap;\n",
              "      gap: 12px;\n",
              "    }\n",
              "\n",
              "    .colab-df-convert {\n",
              "      background-color: #E8F0FE;\n",
              "      border: none;\n",
              "      border-radius: 50%;\n",
              "      cursor: pointer;\n",
              "      display: none;\n",
              "      fill: #1967D2;\n",
              "      height: 32px;\n",
              "      padding: 0 0 0 0;\n",
              "      width: 32px;\n",
              "    }\n",
              "\n",
              "    .colab-df-convert:hover {\n",
              "      background-color: #E2EBFA;\n",
              "      box-shadow: 0px 1px 2px rgba(60, 64, 67, 0.3), 0px 1px 3px 1px rgba(60, 64, 67, 0.15);\n",
              "      fill: #174EA6;\n",
              "    }\n",
              "\n",
              "    [theme=dark] .colab-df-convert {\n",
              "      background-color: #3B4455;\n",
              "      fill: #D2E3FC;\n",
              "    }\n",
              "\n",
              "    [theme=dark] .colab-df-convert:hover {\n",
              "      background-color: #434B5C;\n",
              "      box-shadow: 0px 1px 3px 1px rgba(0, 0, 0, 0.15);\n",
              "      filter: drop-shadow(0px 1px 2px rgba(0, 0, 0, 0.3));\n",
              "      fill: #FFFFFF;\n",
              "    }\n",
              "  </style>\n",
              "\n",
              "      <script>\n",
              "        const buttonEl =\n",
              "          document.querySelector('#df-ecfd3ca0-5906-401b-9782-f5fc857ab975 button.colab-df-convert');\n",
              "        buttonEl.style.display =\n",
              "          google.colab.kernel.accessAllowed ? 'block' : 'none';\n",
              "\n",
              "        async function convertToInteractive(key) {\n",
              "          const element = document.querySelector('#df-ecfd3ca0-5906-401b-9782-f5fc857ab975');\n",
              "          const dataTable =\n",
              "            await google.colab.kernel.invokeFunction('convertToInteractive',\n",
              "                                                     [key], {});\n",
              "          if (!dataTable) return;\n",
              "\n",
              "          const docLinkHtml = 'Like what you see? Visit the ' +\n",
              "            '<a target=\"_blank\" href=https://colab.research.google.com/notebooks/data_table.ipynb>data table notebook</a>'\n",
              "            + ' to learn more about interactive tables.';\n",
              "          element.innerHTML = '';\n",
              "          dataTable['output_type'] = 'display_data';\n",
              "          await google.colab.output.renderOutput(dataTable, element);\n",
              "          const docLink = document.createElement('div');\n",
              "          docLink.innerHTML = docLinkHtml;\n",
              "          element.appendChild(docLink);\n",
              "        }\n",
              "      </script>\n",
              "    </div>\n",
              "  </div>\n",
              "  "
            ]
          },
          "metadata": {},
          "execution_count": 293
        }
      ],
      "source": [
        "tf.head()"
      ]
    },
    {
      "cell_type": "code",
      "execution_count": 294,
      "metadata": {
        "colab": {
          "base_uri": "https://localhost:8080/",
          "height": 206
        },
        "id": "2ZiueNLOtsCO",
        "outputId": "d1c019e8-e1b8-4db5-a208-469d9efa85b3"
      },
      "outputs": [
        {
          "output_type": "execute_result",
          "data": {
            "text/plain": [
              "                           key  pickup_longitude  pickup_latitude  \\\n",
              "0  2015-01-27 13:08:24.0000002        -73.973320        40.763805   \n",
              "1  2015-01-27 13:08:24.0000003        -73.986862        40.719383   \n",
              "2  2011-10-08 11:53:44.0000002        -73.982524        40.751260   \n",
              "3  2012-12-01 21:12:12.0000002        -73.981160        40.767807   \n",
              "4  2012-12-01 21:12:12.0000003        -73.966046        40.789775   \n",
              "\n",
              "   dropoff_longitude  dropoff_latitude  passenger_count  \n",
              "0         -73.981430         40.743835                1  \n",
              "1         -73.998886         40.739201                1  \n",
              "2         -73.979654         40.746139                1  \n",
              "3         -73.990448         40.751635                1  \n",
              "4         -73.988565         40.744427                1  "
            ],
            "text/html": [
              "\n",
              "  <div id=\"df-f1202dab-87d2-4f60-9f3f-09273909c3a1\">\n",
              "    <div class=\"colab-df-container\">\n",
              "      <div>\n",
              "<style scoped>\n",
              "    .dataframe tbody tr th:only-of-type {\n",
              "        vertical-align: middle;\n",
              "    }\n",
              "\n",
              "    .dataframe tbody tr th {\n",
              "        vertical-align: top;\n",
              "    }\n",
              "\n",
              "    .dataframe thead th {\n",
              "        text-align: right;\n",
              "    }\n",
              "</style>\n",
              "<table border=\"1\" class=\"dataframe\">\n",
              "  <thead>\n",
              "    <tr style=\"text-align: right;\">\n",
              "      <th></th>\n",
              "      <th>key</th>\n",
              "      <th>pickup_longitude</th>\n",
              "      <th>pickup_latitude</th>\n",
              "      <th>dropoff_longitude</th>\n",
              "      <th>dropoff_latitude</th>\n",
              "      <th>passenger_count</th>\n",
              "    </tr>\n",
              "  </thead>\n",
              "  <tbody>\n",
              "    <tr>\n",
              "      <th>0</th>\n",
              "      <td>2015-01-27 13:08:24.0000002</td>\n",
              "      <td>-73.973320</td>\n",
              "      <td>40.763805</td>\n",
              "      <td>-73.981430</td>\n",
              "      <td>40.743835</td>\n",
              "      <td>1</td>\n",
              "    </tr>\n",
              "    <tr>\n",
              "      <th>1</th>\n",
              "      <td>2015-01-27 13:08:24.0000003</td>\n",
              "      <td>-73.986862</td>\n",
              "      <td>40.719383</td>\n",
              "      <td>-73.998886</td>\n",
              "      <td>40.739201</td>\n",
              "      <td>1</td>\n",
              "    </tr>\n",
              "    <tr>\n",
              "      <th>2</th>\n",
              "      <td>2011-10-08 11:53:44.0000002</td>\n",
              "      <td>-73.982524</td>\n",
              "      <td>40.751260</td>\n",
              "      <td>-73.979654</td>\n",
              "      <td>40.746139</td>\n",
              "      <td>1</td>\n",
              "    </tr>\n",
              "    <tr>\n",
              "      <th>3</th>\n",
              "      <td>2012-12-01 21:12:12.0000002</td>\n",
              "      <td>-73.981160</td>\n",
              "      <td>40.767807</td>\n",
              "      <td>-73.990448</td>\n",
              "      <td>40.751635</td>\n",
              "      <td>1</td>\n",
              "    </tr>\n",
              "    <tr>\n",
              "      <th>4</th>\n",
              "      <td>2012-12-01 21:12:12.0000003</td>\n",
              "      <td>-73.966046</td>\n",
              "      <td>40.789775</td>\n",
              "      <td>-73.988565</td>\n",
              "      <td>40.744427</td>\n",
              "      <td>1</td>\n",
              "    </tr>\n",
              "  </tbody>\n",
              "</table>\n",
              "</div>\n",
              "      <button class=\"colab-df-convert\" onclick=\"convertToInteractive('df-f1202dab-87d2-4f60-9f3f-09273909c3a1')\"\n",
              "              title=\"Convert this dataframe to an interactive table.\"\n",
              "              style=\"display:none;\">\n",
              "        \n",
              "  <svg xmlns=\"http://www.w3.org/2000/svg\" height=\"24px\"viewBox=\"0 0 24 24\"\n",
              "       width=\"24px\">\n",
              "    <path d=\"M0 0h24v24H0V0z\" fill=\"none\"/>\n",
              "    <path d=\"M18.56 5.44l.94 2.06.94-2.06 2.06-.94-2.06-.94-.94-2.06-.94 2.06-2.06.94zm-11 1L8.5 8.5l.94-2.06 2.06-.94-2.06-.94L8.5 2.5l-.94 2.06-2.06.94zm10 10l.94 2.06.94-2.06 2.06-.94-2.06-.94-.94-2.06-.94 2.06-2.06.94z\"/><path d=\"M17.41 7.96l-1.37-1.37c-.4-.4-.92-.59-1.43-.59-.52 0-1.04.2-1.43.59L10.3 9.45l-7.72 7.72c-.78.78-.78 2.05 0 2.83L4 21.41c.39.39.9.59 1.41.59.51 0 1.02-.2 1.41-.59l7.78-7.78 2.81-2.81c.8-.78.8-2.07 0-2.86zM5.41 20L4 18.59l7.72-7.72 1.47 1.35L5.41 20z\"/>\n",
              "  </svg>\n",
              "      </button>\n",
              "      \n",
              "  <style>\n",
              "    .colab-df-container {\n",
              "      display:flex;\n",
              "      flex-wrap:wrap;\n",
              "      gap: 12px;\n",
              "    }\n",
              "\n",
              "    .colab-df-convert {\n",
              "      background-color: #E8F0FE;\n",
              "      border: none;\n",
              "      border-radius: 50%;\n",
              "      cursor: pointer;\n",
              "      display: none;\n",
              "      fill: #1967D2;\n",
              "      height: 32px;\n",
              "      padding: 0 0 0 0;\n",
              "      width: 32px;\n",
              "    }\n",
              "\n",
              "    .colab-df-convert:hover {\n",
              "      background-color: #E2EBFA;\n",
              "      box-shadow: 0px 1px 2px rgba(60, 64, 67, 0.3), 0px 1px 3px 1px rgba(60, 64, 67, 0.15);\n",
              "      fill: #174EA6;\n",
              "    }\n",
              "\n",
              "    [theme=dark] .colab-df-convert {\n",
              "      background-color: #3B4455;\n",
              "      fill: #D2E3FC;\n",
              "    }\n",
              "\n",
              "    [theme=dark] .colab-df-convert:hover {\n",
              "      background-color: #434B5C;\n",
              "      box-shadow: 0px 1px 3px 1px rgba(0, 0, 0, 0.15);\n",
              "      filter: drop-shadow(0px 1px 2px rgba(0, 0, 0, 0.3));\n",
              "      fill: #FFFFFF;\n",
              "    }\n",
              "  </style>\n",
              "\n",
              "      <script>\n",
              "        const buttonEl =\n",
              "          document.querySelector('#df-f1202dab-87d2-4f60-9f3f-09273909c3a1 button.colab-df-convert');\n",
              "        buttonEl.style.display =\n",
              "          google.colab.kernel.accessAllowed ? 'block' : 'none';\n",
              "\n",
              "        async function convertToInteractive(key) {\n",
              "          const element = document.querySelector('#df-f1202dab-87d2-4f60-9f3f-09273909c3a1');\n",
              "          const dataTable =\n",
              "            await google.colab.kernel.invokeFunction('convertToInteractive',\n",
              "                                                     [key], {});\n",
              "          if (!dataTable) return;\n",
              "\n",
              "          const docLinkHtml = 'Like what you see? Visit the ' +\n",
              "            '<a target=\"_blank\" href=https://colab.research.google.com/notebooks/data_table.ipynb>data table notebook</a>'\n",
              "            + ' to learn more about interactive tables.';\n",
              "          element.innerHTML = '';\n",
              "          dataTable['output_type'] = 'display_data';\n",
              "          await google.colab.output.renderOutput(dataTable, element);\n",
              "          const docLink = document.createElement('div');\n",
              "          docLink.innerHTML = docLinkHtml;\n",
              "          element.appendChild(docLink);\n",
              "        }\n",
              "      </script>\n",
              "    </div>\n",
              "  </div>\n",
              "  "
            ]
          },
          "metadata": {},
          "execution_count": 294
        }
      ],
      "source": [
        "tf_1.head()"
      ]
    },
    {
      "cell_type": "code",
      "source": [
        "def detect_outliers(data):\n",
        "  outliers=[]\n",
        "  threshold=3\n",
        "  mean=np.mean(data)\n",
        "  std=np.std(mean)\n",
        "\n",
        "  for i in data:\n",
        "    z_score=(i-mean)/std\n",
        "    if np.abs(z_score)>threshold:\n",
        "      outliers.append(i)\n",
        "  return outliers    "
      ],
      "metadata": {
        "id": "fBRUEB5Ent9h"
      },
      "execution_count": 295,
      "outputs": []
    },
    {
      "cell_type": "code",
      "source": [
        "outliers_pt=detect_outliers(tf[\"amount\"])\n",
        "outliers_pt"
      ],
      "metadata": {
        "colab": {
          "base_uri": "https://localhost:8080/"
        },
        "id": "ZFL7weG9oSHJ",
        "outputId": "5d5a0ab9-a063-4e9d-952b-e6a36bbb8e0a"
      },
      "execution_count": 296,
      "outputs": [
        {
          "output_type": "execute_result",
          "data": {
            "text/plain": [
              "[4.5,\n",
              " 16.9,\n",
              " 5.7,\n",
              " 7.7,\n",
              " 5.3,\n",
              " 12.1,\n",
              " 7.5,\n",
              " 16.5,\n",
              " 9.0,\n",
              " 8.9,\n",
              " 5.3,\n",
              " 5.5,\n",
              " 4.1,\n",
              " 7.0,\n",
              " 7.7,\n",
              " 5.0,\n",
              " 12.5,\n",
              " 5.3,\n",
              " 5.3,\n",
              " 4.0,\n",
              " 10.5,\n",
              " 11.5,\n",
              " 4.5,\n",
              " 4.9,\n",
              " 6.1,\n",
              " 7.3,\n",
              " 6.5,\n",
              " 4.5,\n",
              " 9.3,\n",
              " 4.5,\n",
              " 5.5,\n",
              " 22.54,\n",
              " 31.9,\n",
              " 5.7,\n",
              " 18.1,\n",
              " 58.0,\n",
              " 4.5,\n",
              " 5.3,\n",
              " 9.0,\n",
              " 9.8,\n",
              " 8.1,\n",
              " 10.9,\n",
              " 17.5,\n",
              " 12.1,\n",
              " 5.3,\n",
              " 6.9,\n",
              " 4.5,\n",
              " 3.3,\n",
              " 3.3,\n",
              " 9.0,\n",
              " 9.7,\n",
              " 5.5,\n",
              " 8.0,\n",
              " 7.5,\n",
              " 25.5,\n",
              " 15.3,\n",
              " 34.67,\n",
              " 9.7,\n",
              " 13.7,\n",
              " 6.5,\n",
              " 5.0,\n",
              " 4.5,\n",
              " 4.9,\n",
              " 7.0,\n",
              " 7.3,\n",
              " 7.5,\n",
              " 8.5,\n",
              " 16.5,\n",
              " 11.5,\n",
              " 5.0,\n",
              " 6.9,\n",
              " 3.7,\n",
              " 6.9,\n",
              " 10.1,\n",
              " 16.5,\n",
              " 15.07,\n",
              " 7.7,\n",
              " 24.9,\n",
              " 7.0,\n",
              " 8.5,\n",
              " 5.7,\n",
              " 5.0,\n",
              " 8.5,\n",
              " 17.0,\n",
              " 8.0,\n",
              " 12.0,\n",
              " 12.5,\n",
              " 7.5,\n",
              " 6.9,\n",
              " 5.0,\n",
              " 10.5,\n",
              " 7.7,\n",
              " 11.0,\n",
              " 5.7,\n",
              " 9.0,\n",
              " 13.5,\n",
              " 7.5,\n",
              " 9.0,\n",
              " 14.0,\n",
              " 5.7,\n",
              " 10.0,\n",
              " 5.7,\n",
              " 9.7,\n",
              " 14.1,\n",
              " 7.7,\n",
              " 52.0,\n",
              " 11.3,\n",
              " 8.5,\n",
              " 12.9,\n",
              " 9.5,\n",
              " 9.0,\n",
              " 10.0,\n",
              " 35.0,\n",
              " 9.0,\n",
              " 17.0,\n",
              " 6.1,\n",
              " 14.5,\n",
              " 3.7,\n",
              " 32.5,\n",
              " 5.3,\n",
              " 11.5,\n",
              " 4.0,\n",
              " 10.5,\n",
              " 17.7,\n",
              " 8.0,\n",
              " 5.0,\n",
              " 19.0,\n",
              " 8.0,\n",
              " 7.3,\n",
              " 6.5,\n",
              " 8.0,\n",
              " 16.5,\n",
              " 49.57,\n",
              " 10.5,\n",
              " 22.5,\n",
              " 11.5,\n",
              " 12.5,\n",
              " 5.5,\n",
              " 6.5,\n",
              " 16.5,\n",
              " 9.0,\n",
              " 8.9,\n",
              " 10.9,\n",
              " 8.9,\n",
              " 8.5,\n",
              " 17.0,\n",
              " 12.5,\n",
              " 52.5,\n",
              " 16.0,\n",
              " 8.0,\n",
              " 17.3,\n",
              " 5.7,\n",
              " 5.5,\n",
              " 16.5,\n",
              " 12.9,\n",
              " 10.1,\n",
              " 9.5,\n",
              " 4.5,\n",
              " 6.5,\n",
              " 21.5,\n",
              " 8.0,\n",
              " 4.9,\n",
              " 5.7,\n",
              " 15.3,\n",
              " 14.9,\n",
              " 7.0,\n",
              " 35.5,\n",
              " 8.5,\n",
              " 4.5,\n",
              " 4.1,\n",
              " 11.7,\n",
              " 23.0,\n",
              " 5.7,\n",
              " 5.3,\n",
              " 10.5,\n",
              " 4.9,\n",
              " 6.5,\n",
              " 11.3,\n",
              " 11.5,\n",
              " 5.3,\n",
              " 5.7,\n",
              " 8.1,\n",
              " 6.1,\n",
              " 9.3,\n",
              " 4.5,\n",
              " 5.7,\n",
              " 16.5,\n",
              " 17.0,\n",
              " 24.5,\n",
              " 6.1,\n",
              " 6.0,\n",
              " 6.5,\n",
              " 3.7,\n",
              " 4.5,\n",
              " 27.0,\n",
              " 16.0,\n",
              " 16.1,\n",
              " 15.7,\n",
              " 26.9,\n",
              " 5.5,\n",
              " 6.0,\n",
              " 7.7,\n",
              " 12.9,\n",
              " 11.3,\n",
              " 42.5,\n",
              " 5.7,\n",
              " 5.3,\n",
              " 10.5,\n",
              " 7.3,\n",
              " 4.5,\n",
              " 12.5,\n",
              " 16.5,\n",
              " 4.9,\n",
              " 4.1,\n",
              " 15.5,\n",
              " 11.0,\n",
              " 4.9,\n",
              " 11.3,\n",
              " 7.3,\n",
              " 14.9,\n",
              " 30.9,\n",
              " 6.1,\n",
              " 3.3,\n",
              " 4.1,\n",
              " 12.0,\n",
              " 9.0,\n",
              " 2.5,\n",
              " 8.9,\n",
              " 10.5,\n",
              " 5.7,\n",
              " 7.0,\n",
              " 12.0,\n",
              " 49.57,\n",
              " 8.5,\n",
              " 4.5,\n",
              " 7.3,\n",
              " 5.3,\n",
              " 6.9,\n",
              " 9.3,\n",
              " 6.7,\n",
              " 7.3,\n",
              " 9.0,\n",
              " 13.0,\n",
              " 19.0,\n",
              " 5.5,\n",
              " 8.1,\n",
              " 9.3,\n",
              " 18.0,\n",
              " 12.0,\n",
              " 7.3,\n",
              " 4.9,\n",
              " 16.1,\n",
              " 12.9,\n",
              " 4.0,\n",
              " 15.3,\n",
              " 11.7,\n",
              " 25.3,\n",
              " 8.9,\n",
              " 6.0,\n",
              " 6.0,\n",
              " 6.5,\n",
              " 7.5,\n",
              " 16.5,\n",
              " 4.9,\n",
              " 9.7,\n",
              " 7.7,\n",
              " 19.0,\n",
              " 16.9,\n",
              " 10.5,\n",
              " 8.9,\n",
              " 7.5,\n",
              " 5.5,\n",
              " 10.9,\n",
              " 8.1,\n",
              " 5.7,\n",
              " 18.1,\n",
              " 10.9,\n",
              " 8.9,\n",
              " 13.5,\n",
              " 5.0,\n",
              " 5.3,\n",
              " 7.7,\n",
              " 9.0,\n",
              " 16.1,\n",
              " 4.9,\n",
              " 5.5,\n",
              " 57.33,\n",
              " 8.5,\n",
              " 9.5,\n",
              " 7.5,\n",
              " 6.9,\n",
              " 7.5,\n",
              " 8.1,\n",
              " 6.1,\n",
              " 5.7,\n",
              " 14.1,\n",
              " 5.7,\n",
              " 7.0,\n",
              " 12.0,\n",
              " 11.5,\n",
              " 12.1,\n",
              " 26.67,\n",
              " 4.5,\n",
              " 10.1,\n",
              " 7.7,\n",
              " 25.0,\n",
              " 19.0,\n",
              " 14.0,\n",
              " 5.0,\n",
              " 43.5,\n",
              " 8.0,\n",
              " 8.7,\n",
              " 3.7,\n",
              " 20.5,\n",
              " 34.0,\n",
              " 52.83,\n",
              " 6.1,\n",
              " 8.5,\n",
              " 20.0,\n",
              " 10.5,\n",
              " 26.5,\n",
              " 8.0,\n",
              " 10.6,\n",
              " 4.5,\n",
              " 9.7,\n",
              " 20.5,\n",
              " 9.3,\n",
              " 18.5,\n",
              " 5.0,\n",
              " 34.0,\n",
              " 23.5,\n",
              " 4.5,\n",
              " 8.0,\n",
              " 26.5,\n",
              " 5.5,\n",
              " 6.1,\n",
              " 4.9,\n",
              " 5.3,\n",
              " 8.1,\n",
              " 20.33,\n",
              " 4.5,\n",
              " 7.0,\n",
              " 7.7,\n",
              " 7.3,\n",
              " 33.07,\n",
              " 36.5,\n",
              " 5.0,\n",
              " 23.5,\n",
              " 6.1,\n",
              " 11.0,\n",
              " 6.0,\n",
              " 11.3,\n",
              " 8.1,\n",
              " 8.9,\n",
              " 4.5,\n",
              " 11.0,\n",
              " 8.5,\n",
              " 8.5,\n",
              " 8.1,\n",
              " 6.9,\n",
              " 6.0,\n",
              " 5.3,\n",
              " 6.1,\n",
              " 9.5,\n",
              " 11.5,\n",
              " 17.0,\n",
              " 5.3,\n",
              " 10.0,\n",
              " 15.5,\n",
              " 6.9,\n",
              " 18.1,\n",
              " 15.5,\n",
              " 10.1,\n",
              " 21.5,\n",
              " 8.5,\n",
              " 7.3,\n",
              " 2.5,\n",
              " 8.5,\n",
              " 6.1,\n",
              " 14.1,\n",
              " 6.0,\n",
              " 8.5,\n",
              " 8.0,\n",
              " 5.3,\n",
              " 10.5,\n",
              " 5.5,\n",
              " 8.1,\n",
              " 13.0,\n",
              " 8.5,\n",
              " 6.1,\n",
              " 12.9,\n",
              " 10.0,\n",
              " 8.5,\n",
              " 4.9,\n",
              " 6.0,\n",
              " 5.0,\n",
              " 12.0,\n",
              " 13.5,\n",
              " 33.83,\n",
              " 25.7,\n",
              " 13.7,\n",
              " 10.5,\n",
              " 5.7,\n",
              " 9.0,\n",
              " 22.5,\n",
              " 7.5,\n",
              " 14.1,\n",
              " 9.3,\n",
              " 4.0,\n",
              " 5.5,\n",
              " 9.3,\n",
              " 7.3,\n",
              " 4.5,\n",
              " 13.0,\n",
              " 5.7,\n",
              " 8.0,\n",
              " 20.5,\n",
              " 9.3,\n",
              " 8.5,\n",
              " 8.1,\n",
              " 5.0,\n",
              " 5.3,\n",
              " 5.3,\n",
              " 6.9,\n",
              " 8.5,\n",
              " 6.5,\n",
              " 29.0,\n",
              " 21.0,\n",
              " 14.5,\n",
              " 32.9,\n",
              " 6.1,\n",
              " 13.0,\n",
              " 15.0,\n",
              " 4.9,\n",
              " 8.9,\n",
              " 8.1,\n",
              " 6.0,\n",
              " 57.33,\n",
              " 8.0,\n",
              " 8.5,\n",
              " 8.9,\n",
              " 10.5,\n",
              " 10.1,\n",
              " 49.8,\n",
              " 5.0,\n",
              " 6.0,\n",
              " 13.3,\n",
              " 7.0,\n",
              " 10.5,\n",
              " 56.8,\n",
              " 14.5,\n",
              " 11.3,\n",
              " 6.5,\n",
              " 5.7,\n",
              " 13.0,\n",
              " 22.0,\n",
              " 18.5,\n",
              " 14.1,\n",
              " 4.5,\n",
              " 24.0,\n",
              " 25.7,\n",
              " 3.3,\n",
              " 8.5,\n",
              " 5.3,\n",
              " 4.5,\n",
              " 3.7,\n",
              " 8.1,\n",
              " 16.1,\n",
              " 12.9,\n",
              " 8.1,\n",
              " 9.5,\n",
              " 23.5,\n",
              " 2.5,\n",
              " 11.0,\n",
              " 6.1,\n",
              " 28.0,\n",
              " 10.0,\n",
              " 10.1,\n",
              " 7.7,\n",
              " 8.0,\n",
              " 6.1,\n",
              " 20.5,\n",
              " 9.5,\n",
              " 7.0,\n",
              " 8.5,\n",
              " 7.5,\n",
              " 11.5,\n",
              " 7.7,\n",
              " 6.1,\n",
              " 38.5,\n",
              " 11.5,\n",
              " 6.0,\n",
              " 17.0,\n",
              " 7.5,\n",
              " 5.5,\n",
              " 6.9,\n",
              " 3.0,\n",
              " 12.5,\n",
              " 17.0,\n",
              " 38.8,\n",
              " 6.0,\n",
              " 6.5,\n",
              " 14.5,\n",
              " 2.5,\n",
              " 4.1,\n",
              " 13.3,\n",
              " 6.0,\n",
              " 6.5,\n",
              " 12.5,\n",
              " 21.5,\n",
              " 49.57,\n",
              " 38.1,\n",
              " 10.1,\n",
              " 4.5,\n",
              " 5.3,\n",
              " 8.0,\n",
              " 7.7,\n",
              " 7.5,\n",
              " 5.5,\n",
              " 7.7,\n",
              " 8.1,\n",
              " 5.5,\n",
              " 6.5,\n",
              " 4.5,\n",
              " 7.0,\n",
              " 17.5,\n",
              " 4.9,\n",
              " 6.0,\n",
              " 4.5,\n",
              " 10.5,\n",
              " 8.9,\n",
              " 6.1,\n",
              " 14.5,\n",
              " 6.1,\n",
              " 5.7,\n",
              " 8.0,\n",
              " 5.5,\n",
              " 52.0,\n",
              " 49.8,\n",
              " 49.8,\n",
              " 16.0,\n",
              " 16.5,\n",
              " 4.5,\n",
              " 11.3,\n",
              " 10.0,\n",
              " 16.5,\n",
              " 8.9,\n",
              " 6.9,\n",
              " 5.0,\n",
              " 4.0,\n",
              " 5.7,\n",
              " 2.9,\n",
              " 52.0,\n",
              " 10.5,\n",
              " 38.83,\n",
              " 4.5,\n",
              " 7.0,\n",
              " 12.9,\n",
              " 7.3,\n",
              " 4.9,\n",
              " 5.5,\n",
              " 13.5,\n",
              " 22.0,\n",
              " 11.0,\n",
              " 5.0,\n",
              " 9.7,\n",
              " 4.9,\n",
              " 9.5,\n",
              " 6.5,\n",
              " 8.5,\n",
              " 5.5,\n",
              " 10.5,\n",
              " 4.5,\n",
              " 4.9,\n",
              " 7.3,\n",
              " 5.3,\n",
              " 14.1,\n",
              " 6.5,\n",
              " 3.7,\n",
              " 11.7,\n",
              " 9.0,\n",
              " 10.1,\n",
              " 49.8,\n",
              " 8.1,\n",
              " 7.3,\n",
              " 5.7,\n",
              " 10.5,\n",
              " 8.1,\n",
              " 28.5,\n",
              " 14.9,\n",
              " 13.7,\n",
              " 7.3,\n",
              " 5.5,\n",
              " 11.5,\n",
              " 8.0,\n",
              " 4.9,\n",
              " 3.7,\n",
              " 13.5,\n",
              " 10.5,\n",
              " 10.0,\n",
              " 11.5,\n",
              " 16.0,\n",
              " 8.9,\n",
              " 4.5,\n",
              " 9.5,\n",
              " 5.3,\n",
              " 4.1,\n",
              " 8.1,\n",
              " 18.1,\n",
              " 9.7,\n",
              " 6.0,\n",
              " 5.0,\n",
              " 6.9,\n",
              " 14.5,\n",
              " 14.1,\n",
              " 6.9,\n",
              " 16.0,\n",
              " 6.5,\n",
              " 3.3,\n",
              " 6.5,\n",
              " 5.0,\n",
              " 6.1,\n",
              " 57.33,\n",
              " 5.3,\n",
              " 10.9,\n",
              " 4.1,\n",
              " 11.3,\n",
              " 5.5,\n",
              " 10.0,\n",
              " 4.0,\n",
              " 2.9,\n",
              " 6.9,\n",
              " 8.9,\n",
              " 4.5,\n",
              " 4.5,\n",
              " 12.9,\n",
              " 5.3,\n",
              " 6.9,\n",
              " 16.1,\n",
              " 26.9,\n",
              " 6.0,\n",
              " 6.0,\n",
              " 14.5,\n",
              " 3.3,\n",
              " 9.7,\n",
              " 4.5,\n",
              " 15.5,\n",
              " 15.5,\n",
              " 14.0,\n",
              " 66.3,\n",
              " 14.1,\n",
              " 18.5,\n",
              " 12.1,\n",
              " 11.7,\n",
              " 3.5,\n",
              " 10.5,\n",
              " 20.5,\n",
              " 2.5,\n",
              " 21.0,\n",
              " 9.5,\n",
              " 13.3,\n",
              " 8.9,\n",
              " 10.5,\n",
              " 4.5,\n",
              " 24.5,\n",
              " 27.0,\n",
              " 8.5,\n",
              " 9.0,\n",
              " 9.5,\n",
              " 6.5,\n",
              " 19.7,\n",
              " 30.9,\n",
              " 8.5,\n",
              " 6.5,\n",
              " 14.9,\n",
              " 16.1,\n",
              " 5.5,\n",
              " 20.5,\n",
              " 6.5,\n",
              " 5.0,\n",
              " 5.0,\n",
              " 16.5,\n",
              " 16.0,\n",
              " 10.9,\n",
              " 16.5,\n",
              " 20.5,\n",
              " 7.3,\n",
              " 9.0,\n",
              " 15.5,\n",
              " 5.0,\n",
              " 57.33,\n",
              " 10.5,\n",
              " 9.5,\n",
              " 4.1,\n",
              " 12.1,\n",
              " 7.0,\n",
              " 4.9,\n",
              " 4.9,\n",
              " 11.0,\n",
              " 5.5,\n",
              " 7.0,\n",
              " 3.7,\n",
              " 6.5,\n",
              " 15.3,\n",
              " 38.33,\n",
              " 6.5,\n",
              " 17.0,\n",
              " 10.1,\n",
              " 18.9,\n",
              " 38.5,\n",
              " 8.5,\n",
              " 7.0,\n",
              " 8.5,\n",
              " 7.7,\n",
              " 5.7,\n",
              " 4.5,\n",
              " 7.7,\n",
              " 45.0,\n",
              " 8.0,\n",
              " 4.5,\n",
              " 5.7,\n",
              " 9.7,\n",
              " 10.9,\n",
              " 5.7,\n",
              " 4.0,\n",
              " 4.9,\n",
              " 31.2,\n",
              " 13.3,\n",
              " 11.7,\n",
              " 8.9,\n",
              " 4.5,\n",
              " 20.0,\n",
              " 7.0,\n",
              " 4.5,\n",
              " 16.5,\n",
              " 12.9,\n",
              " 34.1,\n",
              " 57.33,\n",
              " 8.9,\n",
              " 13.0,\n",
              " 9.7,\n",
              " 11.0,\n",
              " 5.5,\n",
              " 4.9,\n",
              " 9.3,\n",
              " 8.5,\n",
              " 4.5,\n",
              " 11.3,\n",
              " 13.7,\n",
              " 6.9,\n",
              " 8.1,\n",
              " 11.0,\n",
              " 6.9,\n",
              " 4.5,\n",
              " 6.1,\n",
              " 7.7,\n",
              " 12.9,\n",
              " 8.1,\n",
              " 35.07,\n",
              " 12.1,\n",
              " 9.3,\n",
              " 21.5,\n",
              " 6.9,\n",
              " 10.0,\n",
              " 8.5,\n",
              " 26.5,\n",
              " 4.5,\n",
              " 6.9,\n",
              " 6.5,\n",
              " 4.9,\n",
              " 13.3,\n",
              " 18.5,\n",
              " 8.0,\n",
              " 5.5,\n",
              " 28.1,\n",
              " 6.5,\n",
              " 12.9,\n",
              " 4.1,\n",
              " 10.5,\n",
              " 12.1,\n",
              " 13.7,\n",
              " 16.1,\n",
              " 3.0,\n",
              " 8.5,\n",
              " 13.5,\n",
              " 4.9,\n",
              " 4.9,\n",
              " 27.0,\n",
              " 6.0,\n",
              " 5.5,\n",
              " 24.9,\n",
              " 22.5,\n",
              " 15.0,\n",
              " 13.0,\n",
              " 14.5,\n",
              " 8.1,\n",
              " 15.7,\n",
              " 10.5,\n",
              " 45.0,\n",
              " 3.0,\n",
              " 4.1,\n",
              " 23.7,\n",
              " 9.3,\n",
              " 24.5,\n",
              " 7.3,\n",
              " 10.1,\n",
              " 3.7,\n",
              " 9.7,\n",
              " 6.1,\n",
              " 49.8,\n",
              " 4.9,\n",
              " 7.7,\n",
              " 31.83,\n",
              " 5.0,\n",
              " 4.5,\n",
              " 6.9,\n",
              " 12.5,\n",
              " 13.5,\n",
              " 9.5,\n",
              " 6.1,\n",
              " 4.5,\n",
              " 6.5,\n",
              " 7.3,\n",
              " 7.7,\n",
              " 7.7,\n",
              " 8.9,\n",
              " 10.5,\n",
              " 6.0,\n",
              " 5.0,\n",
              " 8.0,\n",
              " 13.3,\n",
              " 2.9,\n",
              " 25.45,\n",
              " 4.5,\n",
              " 9.0,\n",
              " 4.1,\n",
              " 5.3,\n",
              " 5.5,\n",
              " 18.0,\n",
              " 4.5,\n",
              " 6.0,\n",
              " 8.1,\n",
              " 9.5,\n",
              " 5.5,\n",
              " 23.0,\n",
              " 6.6,\n",
              " 53.0,\n",
              " 15.3,\n",
              " 6.1,\n",
              " 7.3,\n",
              " 30.83,\n",
              " 6.5,\n",
              " 4.5,\n",
              " 5.5,\n",
              " 3.7,\n",
              " 4.1,\n",
              " 3.3,\n",
              " 31.5,\n",
              " 7.0,\n",
              " 9.7,\n",
              " 12.1,\n",
              " 10.5,\n",
              " 4.5,\n",
              " 8.1,\n",
              " 4.9,\n",
              " 8.5,\n",
              " 7.0,\n",
              " 5.5,\n",
              " 4.9,\n",
              " 6.1,\n",
              " 7.3,\n",
              " 12.1,\n",
              " 8.5,\n",
              " 6.9,\n",
              " 13.7,\n",
              " 3.3,\n",
              " 5.5,\n",
              " 11.5,\n",
              " 4.5,\n",
              " 16.1,\n",
              " 11.7,\n",
              " 8.5,\n",
              " 9.0,\n",
              " 6.5,\n",
              " 5.0,\n",
              " 6.1,\n",
              " 12.0,\n",
              " 12.0,\n",
              " 8.5,\n",
              " 9.0,\n",
              " 13.3,\n",
              " 9.7,\n",
              " 5.3,\n",
              " 10.5,\n",
              " 8.9,\n",
              " 13.7,\n",
              " 8.1,\n",
              " 10.9,\n",
              " 6.1,\n",
              " 4.9,\n",
              " 5.7,\n",
              " 6.0,\n",
              " 6.5,\n",
              " 5.7,\n",
              " 6.0,\n",
              " 3.7,\n",
              " 4.9,\n",
              " 7.0,\n",
              " 10.9,\n",
              " 6.5,\n",
              " 13.3,\n",
              " 4.1,\n",
              " 6.9,\n",
              " 15.0,\n",
              " 22.5,\n",
              " 12.1,\n",
              " 20.0,\n",
              " 15.0,\n",
              " 8.5,\n",
              " 5.5,\n",
              " 4.9,\n",
              " 4.9,\n",
              " 2.5,\n",
              " 10.5,\n",
              " 5.7,\n",
              " 11.0,\n",
              " 10.0,\n",
              " 57.33,\n",
              " 49.8,\n",
              " 8.5,\n",
              " 13.5,\n",
              " 5.0,\n",
              " 6.5,\n",
              " 12.9,\n",
              " 6.1,\n",
              " 3.5,\n",
              " 9.0,\n",
              " 6.7,\n",
              " 5.3,\n",
              " 5.5,\n",
              " 7.7,\n",
              " 12.9,\n",
              " 4.5,\n",
              " 9.5,\n",
              " 6.0,\n",
              " 6.1,\n",
              " 12.1,\n",
              " 10.5,\n",
              " 8.0,\n",
              " 8.5,\n",
              " 12.5,\n",
              " 4.5,\n",
              " 13.3,\n",
              " 6.9,\n",
              " 3.5,\n",
              " 9.5,\n",
              " 22.1,\n",
              " 5.3,\n",
              " 2.5,\n",
              " 6.5,\n",
              " 12.5,\n",
              " 10.0,\n",
              " 24.5,\n",
              " 7.7,\n",
              " 14.1,\n",
              " 5.7,\n",
              " 28.0,\n",
              " 6.5,\n",
              " 7.3,\n",
              " 7.7,\n",
              " 10.0,\n",
              " 10.1,\n",
              " 6.5,\n",
              " 6.0,\n",
              " 16.5,\n",
              " 8.5,\n",
              " 17.3,\n",
              " 10.5,\n",
              " 15.0,\n",
              " 23.5,\n",
              " 10.1,\n",
              " 17.7,\n",
              " 9.0,\n",
              " 6.9,\n",
              " 7.3,\n",
              " 21.5,\n",
              " 9.7,\n",
              " 5.7,\n",
              " 13.0,\n",
              " 10.5,\n",
              " 9.0,\n",
              " 7.3,\n",
              " 8.5,\n",
              " 23.0,\n",
              " 13.7,\n",
              " 16.9,\n",
              " 13.7,\n",
              " 29.3,\n",
              " 6.5,\n",
              " 10.9,\n",
              " ...]"
            ]
          },
          "metadata": {},
          "execution_count": 296
        }
      ]
    },
    {
      "cell_type": "code",
      "execution_count": 297,
      "metadata": {
        "colab": {
          "base_uri": "https://localhost:8080/",
          "height": 428
        },
        "id": "6TYpBXXYtuK2",
        "outputId": "dfb5e856-0a47-4d7d-d7dd-c56ee2d201f7"
      },
      "outputs": [
        {
          "output_type": "execute_result",
          "data": {
            "text/plain": [
              "<Axes: ylabel='amount'>"
            ]
          },
          "metadata": {},
          "execution_count": 297
        },
        {
          "output_type": "display_data",
          "data": {
            "text/plain": [
              "<Figure size 640x480 with 1 Axes>"
            ],
            "image/png": "[encoded data removed]"
          },
          "metadata": {}
        }
      ],
      "source": [
        "sns.boxplot(y=\"amount\",data=tf)"
      ]
    },
    {
      "cell_type": "code",
      "execution_count": 298,
      "metadata": {
        "id": "hHWbbTgXu1zs"
      },
      "outputs": [],
      "source": [
        "def remove_outliers(col):\n",
        "  sorted(col)\n",
        "  Q1,Q3=col.quantile([0.25,0.75])\n",
        "  IQR=Q3-Q1\n",
        "  lr=Q1-1.5*(IQR)\n",
        "  ur=Q3+1.5*(IQR)\n",
        "  return lr,ur"
      ]
    },
    {
      "cell_type": "code",
      "execution_count": 299,
      "metadata": {
        "id": "G0GKJZX8u5vp"
      },
      "outputs": [],
      "source": [
        "low_amount,high_amount=remove_outliers(tf[\"amount\"])\n",
        "tf[\"amount\"]=np.where(tf[\"amount\"]>high_amount,high_amount,tf[\"amount\"])\n",
        "tf[\"amount\"]=np.where(tf[\"amount\"]<low_amount,low_amount,tf[\"amount\"])"
      ]
    },
    {
      "cell_type": "code",
      "execution_count": 300,
      "metadata": {
        "colab": {
          "base_uri": "https://localhost:8080/",
          "height": 431
        },
        "id": "QhHLOue4u8Cm",
        "outputId": "73d10018-c921-4700-bbda-686245d69955"
      },
      "outputs": [
        {
          "output_type": "execute_result",
          "data": {
            "text/plain": [
              "<Axes: ylabel='amount'>"
            ]
          },
          "metadata": {},
          "execution_count": 300
        },
        {
          "output_type": "display_data",
          "data": {
            "text/plain": [
              "<Figure size 640x480 with 1 Axes>"
            ],
            "image/png": "[encoded data removed]"
          },
          "metadata": {}
        }
      ],
      "source": [
        "sns.boxplot(y=\"amount\",data=tf)"
      ]
    },
    {
      "cell_type": "code",
      "execution_count": 301,
      "metadata": {
        "colab": {
          "base_uri": "https://localhost:8080/",
          "height": 301
        },
        "id": "xIQyZLDVu-UX",
        "outputId": "35d9ce47-e07e-4316-d1fa-b970edaa5bc0"
      },
      "outputs": [
        {
          "output_type": "execute_result",
          "data": {
            "text/plain": [
              "                        amount  longitude_of_pickup  latitude_of_pickup  \\\n",
              "amount                1.000000             0.001903           -0.004350   \n",
              "longitude_of_pickup   0.001903             1.000000           -0.950588   \n",
              "latitude_of_pickup   -0.004350            -0.950588            1.000000   \n",
              "longitude_of_dropoff -0.001376             0.956131           -0.911123   \n",
              "latitude_of_dropoff  -0.000115            -0.946968            0.928189   \n",
              "no_of_passenger       0.018793            -0.005604            0.003237   \n",
              "\n",
              "                      longitude_of_dropoff  latitude_of_dropoff  \\\n",
              "amount                           -0.001376            -0.000115   \n",
              "longitude_of_pickup               0.956131            -0.946968   \n",
              "latitude_of_pickup               -0.911123             0.928189   \n",
              "longitude_of_dropoff              1.000000            -0.982117   \n",
              "latitude_of_dropoff              -0.982117             1.000000   \n",
              "no_of_passenger                  -0.004936             0.002958   \n",
              "\n",
              "                      no_of_passenger  \n",
              "amount                       0.018793  \n",
              "longitude_of_pickup         -0.005604  \n",
              "latitude_of_pickup           0.003237  \n",
              "longitude_of_dropoff        -0.004936  \n",
              "latitude_of_dropoff          0.002958  \n",
              "no_of_passenger              1.000000  "
            ],
            "text/html": [
              "\n",
              "  <div id=\"df-7b027f80-7e63-46e9-a907-4190a93e3f40\">\n",
              "    <div class=\"colab-df-container\">\n",
              "      <div>\n",
              "<style scoped>\n",
              "    .dataframe tbody tr th:only-of-type {\n",
              "        vertical-align: middle;\n",
              "    }\n",
              "\n",
              "    .dataframe tbody tr th {\n",
              "        vertical-align: top;\n",
              "    }\n",
              "\n",
              "    .dataframe thead th {\n",
              "        text-align: right;\n",
              "    }\n",
              "</style>\n",
              "<table border=\"1\" class=\"dataframe\">\n",
              "  <thead>\n",
              "    <tr style=\"text-align: right;\">\n",
              "      <th></th>\n",
              "      <th>amount</th>\n",
              "      <th>longitude_of_pickup</th>\n",
              "      <th>latitude_of_pickup</th>\n",
              "      <th>longitude_of_dropoff</th>\n",
              "      <th>latitude_of_dropoff</th>\n",
              "      <th>no_of_passenger</th>\n",
              "    </tr>\n",
              "  </thead>\n",
              "  <tbody>\n",
              "    <tr>\n",
              "      <th>amount</th>\n",
              "      <td>1.000000</td>\n",
              "      <td>0.001903</td>\n",
              "      <td>-0.004350</td>\n",
              "      <td>-0.001376</td>\n",
              "      <td>-0.000115</td>\n",
              "      <td>0.018793</td>\n",
              "    </tr>\n",
              "    <tr>\n",
              "      <th>longitude_of_pickup</th>\n",
              "      <td>0.001903</td>\n",
              "      <td>1.000000</td>\n",
              "      <td>-0.950588</td>\n",
              "      <td>0.956131</td>\n",
              "      <td>-0.946968</td>\n",
              "      <td>-0.005604</td>\n",
              "    </tr>\n",
              "    <tr>\n",
              "      <th>latitude_of_pickup</th>\n",
              "      <td>-0.004350</td>\n",
              "      <td>-0.950588</td>\n",
              "      <td>1.000000</td>\n",
              "      <td>-0.911123</td>\n",
              "      <td>0.928189</td>\n",
              "      <td>0.003237</td>\n",
              "    </tr>\n",
              "    <tr>\n",
              "      <th>longitude_of_dropoff</th>\n",
              "      <td>-0.001376</td>\n",
              "      <td>0.956131</td>\n",
              "      <td>-0.911123</td>\n",
              "      <td>1.000000</td>\n",
              "      <td>-0.982117</td>\n",
              "      <td>-0.004936</td>\n",
              "    </tr>\n",
              "    <tr>\n",
              "      <th>latitude_of_dropoff</th>\n",
              "      <td>-0.000115</td>\n",
              "      <td>-0.946968</td>\n",
              "      <td>0.928189</td>\n",
              "      <td>-0.982117</td>\n",
              "      <td>1.000000</td>\n",
              "      <td>0.002958</td>\n",
              "    </tr>\n",
              "    <tr>\n",
              "      <th>no_of_passenger</th>\n",
              "      <td>0.018793</td>\n",
              "      <td>-0.005604</td>\n",
              "      <td>0.003237</td>\n",
              "      <td>-0.004936</td>\n",
              "      <td>0.002958</td>\n",
              "      <td>1.000000</td>\n",
              "    </tr>\n",
              "  </tbody>\n",
              "</table>\n",
              "</div>\n",
              "      <button class=\"colab-df-convert\" onclick=\"convertToInteractive('df-7b027f80-7e63-46e9-a907-4190a93e3f40')\"\n",
              "              title=\"Convert this dataframe to an interactive table.\"\n",
              "              style=\"display:none;\">\n",
              "        \n",
              "  <svg xmlns=\"http://www.w3.org/2000/svg\" height=\"24px\"viewBox=\"0 0 24 24\"\n",
              "       width=\"24px\">\n",
              "    <path d=\"M0 0h24v24H0V0z\" fill=\"none\"/>\n",
              "    <path d=\"M18.56 5.44l.94 2.06.94-2.06 2.06-.94-2.06-.94-.94-2.06-.94 2.06-2.06.94zm-11 1L8.5 8.5l.94-2.06 2.06-.94-2.06-.94L8.5 2.5l-.94 2.06-2.06.94zm10 10l.94 2.06.94-2.06 2.06-.94-2.06-.94-.94-2.06-.94 2.06-2.06.94z\"/><path d=\"M17.41 7.96l-1.37-1.37c-.4-.4-.92-.59-1.43-.59-.52 0-1.04.2-1.43.59L10.3 9.45l-7.72 7.72c-.78.78-.78 2.05 0 2.83L4 21.41c.39.39.9.59 1.41.59.51 0 1.02-.2 1.41-.59l7.78-7.78 2.81-2.81c.8-.78.8-2.07 0-2.86zM5.41 20L4 18.59l7.72-7.72 1.47 1.35L5.41 20z\"/>\n",
              "  </svg>\n",
              "      </button>\n",
              "      \n",
              "  <style>\n",
              "    .colab-df-container {\n",
              "      display:flex;\n",
              "      flex-wrap:wrap;\n",
              "      gap: 12px;\n",
              "    }\n",
              "\n",
              "    .colab-df-convert {\n",
              "      background-color: #E8F0FE;\n",
              "      border: none;\n",
              "      border-radius: 50%;\n",
              "      cursor: pointer;\n",
              "      display: none;\n",
              "      fill: #1967D2;\n",
              "      height: 32px;\n",
              "      padding: 0 0 0 0;\n",
              "      width: 32px;\n",
              "    }\n",
              "\n",
              "    .colab-df-convert:hover {\n",
              "      background-color: #E2EBFA;\n",
              "      box-shadow: 0px 1px 2px rgba(60, 64, 67, 0.3), 0px 1px 3px 1px rgba(60, 64, 67, 0.15);\n",
              "      fill: #174EA6;\n",
              "    }\n",
              "\n",
              "    [theme=dark] .colab-df-convert {\n",
              "      background-color: #3B4455;\n",
              "      fill: #D2E3FC;\n",
              "    }\n",
              "\n",
              "    [theme=dark] .colab-df-convert:hover {\n",
              "      background-color: #434B5C;\n",
              "      box-shadow: 0px 1px 3px 1px rgba(0, 0, 0, 0.15);\n",
              "      filter: drop-shadow(0px 1px 2px rgba(0, 0, 0, 0.3));\n",
              "      fill: #FFFFFF;\n",
              "    }\n",
              "  </style>\n",
              "\n",
              "      <script>\n",
              "        const buttonEl =\n",
              "          document.querySelector('#df-7b027f80-7e63-46e9-a907-4190a93e3f40 button.colab-df-convert');\n",
              "        buttonEl.style.display =\n",
              "          google.colab.kernel.accessAllowed ? 'block' : 'none';\n",
              "\n",
              "        async function convertToInteractive(key) {\n",
              "          const element = document.querySelector('#df-7b027f80-7e63-46e9-a907-4190a93e3f40');\n",
              "          const dataTable =\n",
              "            await google.colab.kernel.invokeFunction('convertToInteractive',\n",
              "                                                     [key], {});\n",
              "          if (!dataTable) return;\n",
              "\n",
              "          const docLinkHtml = 'Like what you see? Visit the ' +\n",
              "            '<a target=\"_blank\" href=https://colab.research.google.com/notebooks/data_table.ipynb>data table notebook</a>'\n",
              "            + ' to learn more about interactive tables.';\n",
              "          element.innerHTML = '';\n",
              "          dataTable['output_type'] = 'display_data';\n",
              "          await google.colab.output.renderOutput(dataTable, element);\n",
              "          const docLink = document.createElement('div');\n",
              "          docLink.innerHTML = docLinkHtml;\n",
              "          element.appendChild(docLink);\n",
              "        }\n",
              "      </script>\n",
              "    </div>\n",
              "  </div>\n",
              "  "
            ]
          },
          "metadata": {},
          "execution_count": 301
        }
      ],
      "source": [
        "corr=tf.corr()\n",
        "corr"
      ]
    },
    {
      "cell_type": "code",
      "execution_count": 302,
      "metadata": {
        "colab": {
          "base_uri": "https://localhost:8080/",
          "height": 582
        },
        "id": "YXWIcHWJvCkg",
        "outputId": "3db09373-a495-4309-a19a-493baaea1111"
      },
      "outputs": [
        {
          "output_type": "execute_result",
          "data": {
            "text/plain": [
              "<Axes: >"
            ]
          },
          "metadata": {},
          "execution_count": 302
        },
        {
          "output_type": "display_data",
          "data": {
            "text/plain": [
              "<Figure size 640x480 with 2 Axes>"
            ],
            "image/png": "[encoded data removed]"
          },
          "metadata": {}
        }
      ],
      "source": [
        "sns.heatmap(corr,cmap=\"YlGnBu\")"
      ]
    },
    {
      "cell_type": "code",
      "execution_count": 303,
      "metadata": {
        "colab": {
          "base_uri": "https://localhost:8080/",
          "height": 1000
        },
        "id": "zdba8700vPoJ",
        "outputId": "092a3d4b-5cdf-4676-a037-c1f5decbc12f"
      },
      "outputs": [
        {
          "output_type": "execute_result",
          "data": {
            "text/plain": [
              "<seaborn.axisgrid.PairGrid at 0x7f55867aab80>"
            ]
          },
          "metadata": {},
          "execution_count": 303
        },
        {
          "output_type": "display_data",
          "data": {
            "text/plain": [
              "<Figure size 1500x1500 with 42 Axes>"
            ],
            "image/png": "[encoded data removed]"
          },
          "metadata": {}
        }
      ],
      "source": [
        "sns.pairplot(tf,diag_kind=\"kde\")"
      ]
    },
    {
      "cell_type": "code",
      "execution_count": 304,
      "metadata": {
        "id": "UWc_LruWfLxn",
        "colab": {
          "base_uri": "https://localhost:8080/",
          "height": 206
        },
        "outputId": "3b2191ab-a472-436a-e25f-97c5a831fa9e"
      },
      "outputs": [
        {
          "output_type": "execute_result",
          "data": {
            "text/plain": [
              "                           key  longitude_of_pickup  latitude_of_pickup  \\\n",
              "0  2015-01-27 13:08:24.0000002           -73.973320           40.763805   \n",
              "1  2015-01-27 13:08:24.0000003           -73.986862           40.719383   \n",
              "2  2011-10-08 11:53:44.0000002           -73.982524           40.751260   \n",
              "3  2012-12-01 21:12:12.0000002           -73.981160           40.767807   \n",
              "4  2012-12-01 21:12:12.0000003           -73.966046           40.789775   \n",
              "\n",
              "   longitude_of_dropoff  latitude_of_dropoff  no_of_passenger  \n",
              "0            -73.981430            40.743835                1  \n",
              "1            -73.998886            40.739201                1  \n",
              "2            -73.979654            40.746139                1  \n",
              "3            -73.990448            40.751635                1  \n",
              "4            -73.988565            40.744427                1  "
            ],
            "text/html": [
              "\n",
              "  <div id=\"df-e4219342-7163-4131-ab9e-6714cd67a4cd\">\n",
              "    <div class=\"colab-df-container\">\n",
              "      <div>\n",
              "<style scoped>\n",
              "    .dataframe tbody tr th:only-of-type {\n",
              "        vertical-align: middle;\n",
              "    }\n",
              "\n",
              "    .dataframe tbody tr th {\n",
              "        vertical-align: top;\n",
              "    }\n",
              "\n",
              "    .dataframe thead th {\n",
              "        text-align: right;\n",
              "    }\n",
              "</style>\n",
              "<table border=\"1\" class=\"dataframe\">\n",
              "  <thead>\n",
              "    <tr style=\"text-align: right;\">\n",
              "      <th></th>\n",
              "      <th>key</th>\n",
              "      <th>longitude_of_pickup</th>\n",
              "      <th>latitude_of_pickup</th>\n",
              "      <th>longitude_of_dropoff</th>\n",
              "      <th>latitude_of_dropoff</th>\n",
              "      <th>no_of_passenger</th>\n",
              "    </tr>\n",
              "  </thead>\n",
              "  <tbody>\n",
              "    <tr>\n",
              "      <th>0</th>\n",
              "      <td>2015-01-27 13:08:24.0000002</td>\n",
              "      <td>-73.973320</td>\n",
              "      <td>40.763805</td>\n",
              "      <td>-73.981430</td>\n",
              "      <td>40.743835</td>\n",
              "      <td>1</td>\n",
              "    </tr>\n",
              "    <tr>\n",
              "      <th>1</th>\n",
              "      <td>2015-01-27 13:08:24.0000003</td>\n",
              "      <td>-73.986862</td>\n",
              "      <td>40.719383</td>\n",
              "      <td>-73.998886</td>\n",
              "      <td>40.739201</td>\n",
              "      <td>1</td>\n",
              "    </tr>\n",
              "    <tr>\n",
              "      <th>2</th>\n",
              "      <td>2011-10-08 11:53:44.0000002</td>\n",
              "      <td>-73.982524</td>\n",
              "      <td>40.751260</td>\n",
              "      <td>-73.979654</td>\n",
              "      <td>40.746139</td>\n",
              "      <td>1</td>\n",
              "    </tr>\n",
              "    <tr>\n",
              "      <th>3</th>\n",
              "      <td>2012-12-01 21:12:12.0000002</td>\n",
              "      <td>-73.981160</td>\n",
              "      <td>40.767807</td>\n",
              "      <td>-73.990448</td>\n",
              "      <td>40.751635</td>\n",
              "      <td>1</td>\n",
              "    </tr>\n",
              "    <tr>\n",
              "      <th>4</th>\n",
              "      <td>2012-12-01 21:12:12.0000003</td>\n",
              "      <td>-73.966046</td>\n",
              "      <td>40.789775</td>\n",
              "      <td>-73.988565</td>\n",
              "      <td>40.744427</td>\n",
              "      <td>1</td>\n",
              "    </tr>\n",
              "  </tbody>\n",
              "</table>\n",
              "</div>\n",
              "      <button class=\"colab-df-convert\" onclick=\"convertToInteractive('df-e4219342-7163-4131-ab9e-6714cd67a4cd')\"\n",
              "              title=\"Convert this dataframe to an interactive table.\"\n",
              "              style=\"display:none;\">\n",
              "        \n",
              "  <svg xmlns=\"http://www.w3.org/2000/svg\" height=\"24px\"viewBox=\"0 0 24 24\"\n",
              "       width=\"24px\">\n",
              "    <path d=\"M0 0h24v24H0V0z\" fill=\"none\"/>\n",
              "    <path d=\"M18.56 5.44l.94 2.06.94-2.06 2.06-.94-2.06-.94-.94-2.06-.94 2.06-2.06.94zm-11 1L8.5 8.5l.94-2.06 2.06-.94-2.06-.94L8.5 2.5l-.94 2.06-2.06.94zm10 10l.94 2.06.94-2.06 2.06-.94-2.06-.94-.94-2.06-.94 2.06-2.06.94z\"/><path d=\"M17.41 7.96l-1.37-1.37c-.4-.4-.92-.59-1.43-.59-.52 0-1.04.2-1.43.59L10.3 9.45l-7.72 7.72c-.78.78-.78 2.05 0 2.83L4 21.41c.39.39.9.59 1.41.59.51 0 1.02-.2 1.41-.59l7.78-7.78 2.81-2.81c.8-.78.8-2.07 0-2.86zM5.41 20L4 18.59l7.72-7.72 1.47 1.35L5.41 20z\"/>\n",
              "  </svg>\n",
              "      </button>\n",
              "      \n",
              "  <style>\n",
              "    .colab-df-container {\n",
              "      display:flex;\n",
              "      flex-wrap:wrap;\n",
              "      gap: 12px;\n",
              "    }\n",
              "\n",
              "    .colab-df-convert {\n",
              "      background-color: #E8F0FE;\n",
              "      border: none;\n",
              "      border-radius: 50%;\n",
              "      cursor: pointer;\n",
              "      display: none;\n",
              "      fill: #1967D2;\n",
              "      height: 32px;\n",
              "      padding: 0 0 0 0;\n",
              "      width: 32px;\n",
              "    }\n",
              "\n",
              "    .colab-df-convert:hover {\n",
              "      background-color: #E2EBFA;\n",
              "      box-shadow: 0px 1px 2px rgba(60, 64, 67, 0.3), 0px 1px 3px 1px rgba(60, 64, 67, 0.15);\n",
              "      fill: #174EA6;\n",
              "    }\n",
              "\n",
              "    [theme=dark] .colab-df-convert {\n",
              "      background-color: #3B4455;\n",
              "      fill: #D2E3FC;\n",
              "    }\n",
              "\n",
              "    [theme=dark] .colab-df-convert:hover {\n",
              "      background-color: #434B5C;\n",
              "      box-shadow: 0px 1px 3px 1px rgba(0, 0, 0, 0.15);\n",
              "      filter: drop-shadow(0px 1px 2px rgba(0, 0, 0, 0.3));\n",
              "      fill: #FFFFFF;\n",
              "    }\n",
              "  </style>\n",
              "\n",
              "      <script>\n",
              "        const buttonEl =\n",
              "          document.querySelector('#df-e4219342-7163-4131-ab9e-6714cd67a4cd button.colab-df-convert');\n",
              "        buttonEl.style.display =\n",
              "          google.colab.kernel.accessAllowed ? 'block' : 'none';\n",
              "\n",
              "        async function convertToInteractive(key) {\n",
              "          const element = document.querySelector('#df-e4219342-7163-4131-ab9e-6714cd67a4cd');\n",
              "          const dataTable =\n",
              "            await google.colab.kernel.invokeFunction('convertToInteractive',\n",
              "                                                     [key], {});\n",
              "          if (!dataTable) return;\n",
              "\n",
              "          const docLinkHtml = 'Like what you see? Visit the ' +\n",
              "            '<a target=\"_blank\" href=https://colab.research.google.com/notebooks/data_table.ipynb>data table notebook</a>'\n",
              "            + ' to learn more about interactive tables.';\n",
              "          element.innerHTML = '';\n",
              "          dataTable['output_type'] = 'display_data';\n",
              "          await google.colab.output.renderOutput(dataTable, element);\n",
              "          const docLink = document.createElement('div');\n",
              "          docLink.innerHTML = docLinkHtml;\n",
              "          element.appendChild(docLink);\n",
              "        }\n",
              "      </script>\n",
              "    </div>\n",
              "  </div>\n",
              "  "
            ]
          },
          "metadata": {},
          "execution_count": 304
        }
      ],
      "source": [
        "tf_1.rename(columns={\"pickup_longitude\":\"longitude_of_pickup\",\"pickup_latitude\":\"latitude_of_pickup\",\"dropoff_longitude\":\"longitude_of_dropoff\",\"dropoff_latitude\":\"latitude_of_dropoff\",\"passenger_count\":\"no_of_passenger\"},inplace=True) \n",
        "tf_1.head()"
      ]
    },
    {
      "cell_type": "code",
      "execution_count": 305,
      "metadata": {
        "id": "ogsaHwsdxn5n"
      },
      "outputs": [],
      "source": [
        "from sklearn import linear_model"
      ]
    },
    {
      "cell_type": "code",
      "execution_count": 306,
      "metadata": {
        "id": "KAwej8GVruMO"
      },
      "outputs": [],
      "source": [
        "x_train=tf.drop(\"amount\",axis=1)\n",
        "y_train=tf[\"amount\"]\n",
        "x_test=tf_1.drop(\"key\",axis=1)"
      ]
    },
    {
      "cell_type": "code",
      "execution_count": 307,
      "metadata": {
        "id": "81V7A_i20IhY"
      },
      "outputs": [],
      "source": [
        "model=linear_model.LinearRegression()"
      ]
    },
    {
      "cell_type": "code",
      "execution_count": 308,
      "metadata": {
        "id": "xZyNOUWU0Q4X",
        "colab": {
          "base_uri": "https://localhost:8080/",
          "height": 74
        },
        "outputId": "347a90ab-8abf-49cf-a084-4ba1a0336ec8"
      },
      "outputs": [
        {
          "output_type": "execute_result",
          "data": {
            "text/plain": [
              "LinearRegression()"
            ],
            "text/html": [
              "<style>#sk-container-id-21 {color: black;background-color: white;}#sk-container-id-21 pre{padding: 0;}#sk-container-id-21 div.sk-toggleable {background-color: white;}#sk-container-id-21 label.sk-toggleable__label {cursor: pointer;display: block;width: 100%;margin-bottom: 0;padding: 0.3em;box-sizing: border-box;text-align: center;}#sk-container-id-21 label.sk-toggleable__label-arrow:before {content: \"▸\";float: left;margin-right: 0.25em;color: #696969;}#sk-container-id-21 label.sk-toggleable__label-arrow:hover:before {color: black;}#sk-container-id-21 div.sk-estimator:hover label.sk-toggleable__label-arrow:before {color: black;}#sk-container-id-21 div.sk-toggleable__content {max-height: 0;max-width: 0;overflow: hidden;text-align: left;background-color: #f0f8ff;}#sk-container-id-21 div.sk-toggleable__content pre {margin: 0.2em;color: black;border-radius: 0.25em;background-color: #f0f8ff;}#sk-container-id-21 input.sk-toggleable__control:checked~div.sk-toggleable__content {max-height: 200px;max-width: 100%;overflow: auto;}#sk-container-id-21 input.sk-toggleable__control:checked~label.sk-toggleable__label-arrow:before {content: \"▾\";}#sk-container-id-21 div.sk-estimator input.sk-toggleable__control:checked~label.sk-toggleable__label {background-color: #d4ebff;}#sk-container-id-21 div.sk-label input.sk-toggleable__control:checked~label.sk-toggleable__label {background-color: #d4ebff;}#sk-container-id-21 input.sk-hidden--visually {border: 0;clip: rect(1px 1px 1px 1px);clip: rect(1px, 1px, 1px, 1px);height: 1px;margin: -1px;overflow: hidden;padding: 0;position: absolute;width: 1px;}#sk-container-id-21 div.sk-estimator {font-family: monospace;background-color: #f0f8ff;border: 1px dotted black;border-radius: 0.25em;box-sizing: border-box;margin-bottom: 0.5em;}#sk-container-id-21 div.sk-estimator:hover {background-color: #d4ebff;}#sk-container-id-21 div.sk-parallel-item::after {content: \"\";width: 100%;border-bottom: 1px solid gray;flex-grow: 1;}#sk-container-id-21 div.sk-label:hover label.sk-toggleable__label {background-color: #d4ebff;}#sk-container-id-21 div.sk-serial::before {content: \"\";position: absolute;border-left: 1px solid gray;box-sizing: border-box;top: 0;bottom: 0;left: 50%;z-index: 0;}#sk-container-id-21 div.sk-serial {display: flex;flex-direction: column;align-items: center;background-color: white;padding-right: 0.2em;padding-left: 0.2em;position: relative;}#sk-container-id-21 div.sk-item {position: relative;z-index: 1;}#sk-container-id-21 div.sk-parallel {display: flex;align-items: stretch;justify-content: center;background-color: white;position: relative;}#sk-container-id-21 div.sk-item::before, #sk-container-id-21 div.sk-parallel-item::before {content: \"\";position: absolute;border-left: 1px solid gray;box-sizing: border-box;top: 0;bottom: 0;left: 50%;z-index: -1;}#sk-container-id-21 div.sk-parallel-item {display: flex;flex-direction: column;z-index: 1;position: relative;background-color: white;}#sk-container-id-21 div.sk-parallel-item:first-child::after {align-self: flex-end;width: 50%;}#sk-container-id-21 div.sk-parallel-item:last-child::after {align-self: flex-start;width: 50%;}#sk-container-id-21 div.sk-parallel-item:only-child::after {width: 0;}#sk-container-id-21 div.sk-dashed-wrapped {border: 1px dashed gray;margin: 0 0.4em 0.5em 0.4em;box-sizing: border-box;padding-bottom: 0.4em;background-color: white;}#sk-container-id-21 div.sk-label label {font-family: monospace;font-weight: bold;display: inline-block;line-height: 1.2em;}#sk-container-id-21 div.sk-label-container {text-align: center;}#sk-container-id-21 div.sk-container {/* jupyter's `normalize.less` sets `[hidden] { display: none; }` but bootstrap.min.css set `[hidden] { display: none !important; }` so we also need the `!important` here to be able to override the default hidden behavior on the sphinx rendered scikit-learn.org. See: https://github.com/scikit-learn/scikit-learn/issues/21755 */display: inline-block !important;position: relative;}#sk-container-id-21 div.sk-text-repr-fallback {display: none;}</style><div id=\"sk-container-id-21\" class=\"sk-top-container\"><div class=\"sk-text-repr-fallback\"><pre>LinearRegression()</pre><b>In a Jupyter environment, please rerun this cell to show the HTML representation or trust the notebook. <br />On GitHub, the HTML representation is unable to render, please try loading this page with nbviewer.org.</b></div><div class=\"sk-container\" hidden><div class=\"sk-item\"><div class=\"sk-estimator sk-toggleable\"><input class=\"sk-toggleable__control sk-hidden--visually\" id=\"sk-estimator-id-21\" type=\"checkbox\" checked><label for=\"sk-estimator-id-21\" class=\"sk-toggleable__label sk-toggleable__label-arrow\">LinearRegression</label><div class=\"sk-toggleable__content\"><pre>LinearRegression()</pre></div></div></div></div></div>"
            ]
          },
          "metadata": {},
          "execution_count": 308
        }
      ],
      "source": [
        "model.fit(x_train,y_train)"
      ]
    },
    {
      "cell_type": "code",
      "execution_count": 309,
      "metadata": {
        "id": "idONh9eZom38",
        "colab": {
          "base_uri": "https://localhost:8080/"
        },
        "outputId": "37a8936e-bc50-4519-e0d4-c044e3915ca2"
      },
      "outputs": [
        {
          "output_type": "execute_result",
          "data": {
            "text/plain": [
              "0.0005530556296454714"
            ]
          },
          "metadata": {},
          "execution_count": 309
        }
      ],
      "source": [
        "model.score(x_train,y_train)"
      ]
    },
    {
      "cell_type": "code",
      "execution_count": 310,
      "metadata": {
        "id": "JJgSQyLj0Udb",
        "colab": {
          "base_uri": "https://localhost:8080/"
        },
        "outputId": "66d63ebe-c8a3-47f2-ff5d-4412cf2a7855"
      },
      "outputs": [
        {
          "output_type": "execute_result",
          "data": {
            "text/plain": [
              "array([10.05294925, 10.05452481, 10.13401749, ..., 10.05490844,\n",
              "       10.13254454, 10.0531419 ])"
            ]
          },
          "metadata": {},
          "execution_count": 310
        }
      ],
      "source": [
        "y_predict=model.predict(x_train)\n",
        "y_predict"
      ]
    },
    {
      "cell_type": "code",
      "execution_count": 311,
      "metadata": {
        "id": "AFJJhdaw1exH"
      },
      "outputs": [],
      "source": [
        "from sklearn.metrics import mean_squared_error"
      ]
    },
    {
      "cell_type": "code",
      "execution_count": 312,
      "metadata": {
        "id": "NeXAkA1-1kjk",
        "colab": {
          "base_uri": "https://localhost:8080/"
        },
        "outputId": "d012ce90-fc15-473c-e067-e107adf40b25"
      },
      "outputs": [
        {
          "output_type": "execute_result",
          "data": {
            "text/plain": [
              "29.842574474442237"
            ]
          },
          "metadata": {},
          "execution_count": 312
        }
      ],
      "source": [
        "mse=mean_squared_error(y_train,y_predict)\n",
        "mse"
      ]
    },
    {
      "cell_type": "code",
      "execution_count": 313,
      "metadata": {
        "id": "OAfYZQEhJFUx",
        "colab": {
          "base_uri": "https://localhost:8080/"
        },
        "outputId": "0fd86339-a67f-41bc-9beb-7c246672731f"
      },
      "outputs": [
        {
          "output_type": "stream",
          "name": "stdout",
          "text": [
            "10.1071262\n"
          ]
        }
      ],
      "source": [
        "s1=0\n",
        "for i in range(len(y_train)):\n",
        "  s1+=y_train[i]\n",
        "\n",
        "print(s1/len(x_train))"
      ]
    },
    {
      "cell_type": "code",
      "execution_count": 314,
      "metadata": {
        "id": "KuZNpADzJZ3P"
      },
      "outputs": [],
      "source": [
        "s2=0\n",
        "for i in range(len(x_train)):\n",
        "  s2+=(y_train[i]-s1)*(y_train[i]-s1)"
      ]
    },
    {
      "cell_type": "code",
      "execution_count": 315,
      "metadata": {
        "id": "JnFf3RdiJo7j",
        "colab": {
          "base_uri": "https://localhost:8080/"
        },
        "outputId": "e6af2ac8-cd08-461a-db44-d165b3d37182"
      },
      "outputs": [
        {
          "output_type": "execute_result",
          "data": {
            "text/plain": [
              "255374784788.8326"
            ]
          },
          "metadata": {},
          "execution_count": 315
        }
      ],
      "source": [
        "var=s2/len(x_train)\n",
        "var"
      ]
    },
    {
      "cell_type": "code",
      "execution_count": 316,
      "metadata": {
        "id": "B-IORkt4Jthb",
        "colab": {
          "base_uri": "https://localhost:8080/"
        },
        "outputId": "2c6b7104-dd07-4c39-b756-5228b031d30a"
      },
      "outputs": [
        {
          "output_type": "execute_result",
          "data": {
            "text/plain": [
              "0.999999999941571"
            ]
          },
          "metadata": {},
          "execution_count": 316
        }
      ],
      "source": [
        "R=np.sqrt(1-mse/var)\n",
        "R ### so the model is perfect as performance is approaching to 1"
      ]
    },
    {
      "cell_type": "code",
      "execution_count": 317,
      "metadata": {
        "id": "_ms2hmccJ0tu",
        "colab": {
          "base_uri": "https://localhost:8080/"
        },
        "outputId": "a45dfea3-484e-4e6d-ff61-cf11849625c1"
      },
      "outputs": [
        {
          "output_type": "execute_result",
          "data": {
            "text/plain": [
              "array([ 0.00805897, -0.0198488 , -0.0272659 , -0.01423556,  0.07944195])"
            ]
          },
          "metadata": {},
          "execution_count": 317
        }
      ],
      "source": [
        "a=model.coef_\n",
        "a"
      ]
    },
    {
      "cell_type": "code",
      "execution_count": 318,
      "metadata": {
        "id": "-CPzts4ZJ5V-",
        "colab": {
          "base_uri": "https://localhost:8080/"
        },
        "outputId": "4cab1f25-cce1-458b-9608-df0fbb3e54d7"
      },
      "outputs": [
        {
          "output_type": "execute_result",
          "data": {
            "text/plain": [
              "9.943089606624586"
            ]
          },
          "metadata": {},
          "execution_count": 318
        }
      ],
      "source": [
        "b=model.intercept_\n",
        "b"
      ]
    },
    {
      "cell_type": "code",
      "execution_count": 319,
      "metadata": {
        "id": "j9sHBYnjMDAL",
        "colab": {
          "base_uri": "https://localhost:8080/",
          "height": 424
        },
        "outputId": "e2256b20-7778-4932-ef6c-941e6ad0b102"
      },
      "outputs": [
        {
          "output_type": "execute_result",
          "data": {
            "text/plain": [
              "      longitude_of_pickup  latitude_of_pickup  longitude_of_dropoff  \\\n",
              "0              -73.973320           40.763805            -73.981430   \n",
              "1              -73.986862           40.719383            -73.998886   \n",
              "2              -73.982524           40.751260            -73.979654   \n",
              "3              -73.981160           40.767807            -73.990448   \n",
              "4              -73.966046           40.789775            -73.988565   \n",
              "...                   ...                 ...                   ...   \n",
              "9909           -73.968124           40.796997            -73.955643   \n",
              "9910           -73.945511           40.803600            -73.960213   \n",
              "9911           -73.991600           40.726608            -73.789742   \n",
              "9912           -73.985573           40.735432            -73.939178   \n",
              "9913           -73.988022           40.754070            -74.000282   \n",
              "\n",
              "      latitude_of_dropoff  no_of_passenger  \n",
              "0               40.743835                1  \n",
              "1               40.739201                1  \n",
              "2               40.746139                1  \n",
              "3               40.751635                1  \n",
              "4               40.744427                1  \n",
              "...                   ...              ...  \n",
              "9909            40.780388                6  \n",
              "9910            40.776371                6  \n",
              "9911            40.647011                6  \n",
              "9912            40.801731                6  \n",
              "9913            40.759220                6  \n",
              "\n",
              "[9914 rows x 5 columns]"
            ],
            "text/html": [
              "\n",
              "  <div id=\"df-1046d1e3-2091-4fac-acf9-cb252dcb6c78\">\n",
              "    <div class=\"colab-df-container\">\n",
              "      <div>\n",
              "<style scoped>\n",
              "    .dataframe tbody tr th:only-of-type {\n",
              "        vertical-align: middle;\n",
              "    }\n",
              "\n",
              "    .dataframe tbody tr th {\n",
              "        vertical-align: top;\n",
              "    }\n",
              "\n",
              "    .dataframe thead th {\n",
              "        text-align: right;\n",
              "    }\n",
              "</style>\n",
              "<table border=\"1\" class=\"dataframe\">\n",
              "  <thead>\n",
              "    <tr style=\"text-align: right;\">\n",
              "      <th></th>\n",
              "      <th>longitude_of_pickup</th>\n",
              "      <th>latitude_of_pickup</th>\n",
              "      <th>longitude_of_dropoff</th>\n",
              "      <th>latitude_of_dropoff</th>\n",
              "      <th>no_of_passenger</th>\n",
              "    </tr>\n",
              "  </thead>\n",
              "  <tbody>\n",
              "    <tr>\n",
              "      <th>0</th>\n",
              "      <td>-73.973320</td>\n",
              "      <td>40.763805</td>\n",
              "      <td>-73.981430</td>\n",
              "      <td>40.743835</td>\n",
              "      <td>1</td>\n",
              "    </tr>\n",
              "    <tr>\n",
              "      <th>1</th>\n",
              "      <td>-73.986862</td>\n",
              "      <td>40.719383</td>\n",
              "      <td>-73.998886</td>\n",
              "      <td>40.739201</td>\n",
              "      <td>1</td>\n",
              "    </tr>\n",
              "    <tr>\n",
              "      <th>2</th>\n",
              "      <td>-73.982524</td>\n",
              "      <td>40.751260</td>\n",
              "      <td>-73.979654</td>\n",
              "      <td>40.746139</td>\n",
              "      <td>1</td>\n",
              "    </tr>\n",
              "    <tr>\n",
              "      <th>3</th>\n",
              "      <td>-73.981160</td>\n",
              "      <td>40.767807</td>\n",
              "      <td>-73.990448</td>\n",
              "      <td>40.751635</td>\n",
              "      <td>1</td>\n",
              "    </tr>\n",
              "    <tr>\n",
              "      <th>4</th>\n",
              "      <td>-73.966046</td>\n",
              "      <td>40.789775</td>\n",
              "      <td>-73.988565</td>\n",
              "      <td>40.744427</td>\n",
              "      <td>1</td>\n",
              "    </tr>\n",
              "    <tr>\n",
              "      <th>...</th>\n",
              "      <td>...</td>\n",
              "      <td>...</td>\n",
              "      <td>...</td>\n",
              "      <td>...</td>\n",
              "      <td>...</td>\n",
              "    </tr>\n",
              "    <tr>\n",
              "      <th>9909</th>\n",
              "      <td>-73.968124</td>\n",
              "      <td>40.796997</td>\n",
              "      <td>-73.955643</td>\n",
              "      <td>40.780388</td>\n",
              "      <td>6</td>\n",
              "    </tr>\n",
              "    <tr>\n",
              "      <th>9910</th>\n",
              "      <td>-73.945511</td>\n",
              "      <td>40.803600</td>\n",
              "      <td>-73.960213</td>\n",
              "      <td>40.776371</td>\n",
              "      <td>6</td>\n",
              "    </tr>\n",
              "    <tr>\n",
              "      <th>9911</th>\n",
              "      <td>-73.991600</td>\n",
              "      <td>40.726608</td>\n",
              "      <td>-73.789742</td>\n",
              "      <td>40.647011</td>\n",
              "      <td>6</td>\n",
              "    </tr>\n",
              "    <tr>\n",
              "      <th>9912</th>\n",
              "      <td>-73.985573</td>\n",
              "      <td>40.735432</td>\n",
              "      <td>-73.939178</td>\n",
              "      <td>40.801731</td>\n",
              "      <td>6</td>\n",
              "    </tr>\n",
              "    <tr>\n",
              "      <th>9913</th>\n",
              "      <td>-73.988022</td>\n",
              "      <td>40.754070</td>\n",
              "      <td>-74.000282</td>\n",
              "      <td>40.759220</td>\n",
              "      <td>6</td>\n",
              "    </tr>\n",
              "  </tbody>\n",
              "</table>\n",
              "<p>9914 rows × 5 columns</p>\n",
              "</div>\n",
              "      <button class=\"colab-df-convert\" onclick=\"convertToInteractive('df-1046d1e3-2091-4fac-acf9-cb252dcb6c78')\"\n",
              "              title=\"Convert this dataframe to an interactive table.\"\n",
              "              style=\"display:none;\">\n",
              "        \n",
              "  <svg xmlns=\"http://www.w3.org/2000/svg\" height=\"24px\"viewBox=\"0 0 24 24\"\n",
              "       width=\"24px\">\n",
              "    <path d=\"M0 0h24v24H0V0z\" fill=\"none\"/>\n",
              "    <path d=\"M18.56 5.44l.94 2.06.94-2.06 2.06-.94-2.06-.94-.94-2.06-.94 2.06-2.06.94zm-11 1L8.5 8.5l.94-2.06 2.06-.94-2.06-.94L8.5 2.5l-.94 2.06-2.06.94zm10 10l.94 2.06.94-2.06 2.06-.94-2.06-.94-.94-2.06-.94 2.06-2.06.94z\"/><path d=\"M17.41 7.96l-1.37-1.37c-.4-.4-.92-.59-1.43-.59-.52 0-1.04.2-1.43.59L10.3 9.45l-7.72 7.72c-.78.78-.78 2.05 0 2.83L4 21.41c.39.39.9.59 1.41.59.51 0 1.02-.2 1.41-.59l7.78-7.78 2.81-2.81c.8-.78.8-2.07 0-2.86zM5.41 20L4 18.59l7.72-7.72 1.47 1.35L5.41 20z\"/>\n",
              "  </svg>\n",
              "      </button>\n",
              "      \n",
              "  <style>\n",
              "    .colab-df-container {\n",
              "      display:flex;\n",
              "      flex-wrap:wrap;\n",
              "      gap: 12px;\n",
              "    }\n",
              "\n",
              "    .colab-df-convert {\n",
              "      background-color: #E8F0FE;\n",
              "      border: none;\n",
              "      border-radius: 50%;\n",
              "      cursor: pointer;\n",
              "      display: none;\n",
              "      fill: #1967D2;\n",
              "      height: 32px;\n",
              "      padding: 0 0 0 0;\n",
              "      width: 32px;\n",
              "    }\n",
              "\n",
              "    .colab-df-convert:hover {\n",
              "      background-color: #E2EBFA;\n",
              "      box-shadow: 0px 1px 2px rgba(60, 64, 67, 0.3), 0px 1px 3px 1px rgba(60, 64, 67, 0.15);\n",
              "      fill: #174EA6;\n",
              "    }\n",
              "\n",
              "    [theme=dark] .colab-df-convert {\n",
              "      background-color: #3B4455;\n",
              "      fill: #D2E3FC;\n",
              "    }\n",
              "\n",
              "    [theme=dark] .colab-df-convert:hover {\n",
              "      background-color: #434B5C;\n",
              "      box-shadow: 0px 1px 3px 1px rgba(0, 0, 0, 0.15);\n",
              "      filter: drop-shadow(0px 1px 2px rgba(0, 0, 0, 0.3));\n",
              "      fill: #FFFFFF;\n",
              "    }\n",
              "  </style>\n",
              "\n",
              "      <script>\n",
              "        const buttonEl =\n",
              "          document.querySelector('#df-1046d1e3-2091-4fac-acf9-cb252dcb6c78 button.colab-df-convert');\n",
              "        buttonEl.style.display =\n",
              "          google.colab.kernel.accessAllowed ? 'block' : 'none';\n",
              "\n",
              "        async function convertToInteractive(key) {\n",
              "          const element = document.querySelector('#df-1046d1e3-2091-4fac-acf9-cb252dcb6c78');\n",
              "          const dataTable =\n",
              "            await google.colab.kernel.invokeFunction('convertToInteractive',\n",
              "                                                     [key], {});\n",
              "          if (!dataTable) return;\n",
              "\n",
              "          const docLinkHtml = 'Like what you see? Visit the ' +\n",
              "            '<a target=\"_blank\" href=https://colab.research.google.com/notebooks/data_table.ipynb>data table notebook</a>'\n",
              "            + ' to learn more about interactive tables.';\n",
              "          element.innerHTML = '';\n",
              "          dataTable['output_type'] = 'display_data';\n",
              "          await google.colab.output.renderOutput(dataTable, element);\n",
              "          const docLink = document.createElement('div');\n",
              "          docLink.innerHTML = docLinkHtml;\n",
              "          element.appendChild(docLink);\n",
              "        }\n",
              "      </script>\n",
              "    </div>\n",
              "  </div>\n",
              "  "
            ]
          },
          "metadata": {},
          "execution_count": 319
        }
      ],
      "source": [
        "x_test"
      ]
    },
    {
      "cell_type": "code",
      "execution_count": 320,
      "metadata": {
        "id": "MBNcuJePKmzu",
        "colab": {
          "base_uri": "https://localhost:8080/"
        },
        "outputId": "c4dffc8a-ea67-43ab-e753-bab87478cfe0"
      },
      "outputs": [
        {
          "output_type": "execute_result",
          "data": {
            "text/plain": [
              "0       10.054429\n",
              "1       10.055744\n",
              "2       10.054523\n",
              "3       10.054422\n",
              "4       10.054159\n",
              "          ...    \n",
              "9909    10.449799\n",
              "9910    10.450032\n",
              "9911    10.448382\n",
              "9912    10.450127\n",
              "9913    10.452009\n",
              "Length: 9914, dtype: float64"
            ]
          },
          "metadata": {},
          "execution_count": 320
        }
      ],
      "source": [
        "fare_amount=b+a[0]*tf_1.longitude_of_pickup+a[1]*tf_1.latitude_of_pickup+a[2]*tf_1.longitude_of_dropoff+a[3]*tf_1.latitude_of_dropoff+a[4]*tf_1.no_of_passenger\n",
        "fare_amount"
      ]
    },
    {
      "cell_type": "code",
      "execution_count": 321,
      "metadata": {
        "id": "Hb8Te0sKNFfb",
        "colab": {
          "base_uri": "https://localhost:8080/"
        },
        "outputId": "8a7eb7ca-24a9-4065-93d1-03f8daf688ce"
      },
      "outputs": [
        {
          "output_type": "stream",
          "name": "stdout",
          "text": [
            "10.107674119416602\n"
          ]
        }
      ],
      "source": [
        "s3=0\n",
        "for i in range(len(x_test)):\n",
        "  s3+=fare_amount[i]\n",
        "\n",
        "print(s3/len(x_test))"
      ]
    },
    {
      "cell_type": "code",
      "execution_count": 322,
      "metadata": {
        "id": "t3u3Z1oOWd9c",
        "colab": {
          "base_uri": "https://localhost:8080/",
          "height": 430
        },
        "outputId": "15af7aa1-1da4-44f8-d18c-8ec80f3a6389"
      },
      "outputs": [
        {
          "output_type": "display_data",
          "data": {
            "text/plain": [
              "<Figure size 640x480 with 1 Axes>"
            ],
            "image/png": "[encoded data removed]"
          },
          "metadata": {}
        }
      ],
      "source": [
        "plt.scatter(tf.longitude_of_pickup,y_train)\n",
        "plt.plot(tf.longitude_of_pickup,y_predict)\n",
        "plt.show()"
      ]
    },
    {
      "cell_type": "code",
      "execution_count": 323,
      "metadata": {
        "id": "r6go2Es3Rbhm"
      },
      "outputs": [],
      "source": [
        "from sklearn.tree import DecisionTreeRegressor"
      ]
    },
    {
      "cell_type": "code",
      "execution_count": 324,
      "metadata": {
        "id": "qiGVcQN3VNKY",
        "colab": {
          "base_uri": "https://localhost:8080/",
          "height": 74
        },
        "outputId": "c131ef2f-090a-4a68-c257-a7406fc975b9"
      },
      "outputs": [
        {
          "output_type": "execute_result",
          "data": {
            "text/plain": [
              "DecisionTreeRegressor()"
            ],
            "text/html": [
              "<style>#sk-container-id-22 {color: black;background-color: white;}#sk-container-id-22 pre{padding: 0;}#sk-container-id-22 div.sk-toggleable {background-color: white;}#sk-container-id-22 label.sk-toggleable__label {cursor: pointer;display: block;width: 100%;margin-bottom: 0;padding: 0.3em;box-sizing: border-box;text-align: center;}#sk-container-id-22 label.sk-toggleable__label-arrow:before {content: \"▸\";float: left;margin-right: 0.25em;color: #696969;}#sk-container-id-22 label.sk-toggleable__label-arrow:hover:before {color: black;}#sk-container-id-22 div.sk-estimator:hover label.sk-toggleable__label-arrow:before {color: black;}#sk-container-id-22 div.sk-toggleable__content {max-height: 0;max-width: 0;overflow: hidden;text-align: left;background-color: #f0f8ff;}#sk-container-id-22 div.sk-toggleable__content pre {margin: 0.2em;color: black;border-radius: 0.25em;background-color: #f0f8ff;}#sk-container-id-22 input.sk-toggleable__control:checked~div.sk-toggleable__content {max-height: 200px;max-width: 100%;overflow: auto;}#sk-container-id-22 input.sk-toggleable__control:checked~label.sk-toggleable__label-arrow:before {content: \"▾\";}#sk-container-id-22 div.sk-estimator input.sk-toggleable__control:checked~label.sk-toggleable__label {background-color: #d4ebff;}#sk-container-id-22 div.sk-label input.sk-toggleable__control:checked~label.sk-toggleable__label {background-color: #d4ebff;}#sk-container-id-22 input.sk-hidden--visually {border: 0;clip: rect(1px 1px 1px 1px);clip: rect(1px, 1px, 1px, 1px);height: 1px;margin: -1px;overflow: hidden;padding: 0;position: absolute;width: 1px;}#sk-container-id-22 div.sk-estimator {font-family: monospace;background-color: #f0f8ff;border: 1px dotted black;border-radius: 0.25em;box-sizing: border-box;margin-bottom: 0.5em;}#sk-container-id-22 div.sk-estimator:hover {background-color: #d4ebff;}#sk-container-id-22 div.sk-parallel-item::after {content: \"\";width: 100%;border-bottom: 1px solid gray;flex-grow: 1;}#sk-container-id-22 div.sk-label:hover label.sk-toggleable__label {background-color: #d4ebff;}#sk-container-id-22 div.sk-serial::before {content: \"\";position: absolute;border-left: 1px solid gray;box-sizing: border-box;top: 0;bottom: 0;left: 50%;z-index: 0;}#sk-container-id-22 div.sk-serial {display: flex;flex-direction: column;align-items: center;background-color: white;padding-right: 0.2em;padding-left: 0.2em;position: relative;}#sk-container-id-22 div.sk-item {position: relative;z-index: 1;}#sk-container-id-22 div.sk-parallel {display: flex;align-items: stretch;justify-content: center;background-color: white;position: relative;}#sk-container-id-22 div.sk-item::before, #sk-container-id-22 div.sk-parallel-item::before {content: \"\";position: absolute;border-left: 1px solid gray;box-sizing: border-box;top: 0;bottom: 0;left: 50%;z-index: -1;}#sk-container-id-22 div.sk-parallel-item {display: flex;flex-direction: column;z-index: 1;position: relative;background-color: white;}#sk-container-id-22 div.sk-parallel-item:first-child::after {align-self: flex-end;width: 50%;}#sk-container-id-22 div.sk-parallel-item:last-child::after {align-self: flex-start;width: 50%;}#sk-container-id-22 div.sk-parallel-item:only-child::after {width: 0;}#sk-container-id-22 div.sk-dashed-wrapped {border: 1px dashed gray;margin: 0 0.4em 0.5em 0.4em;box-sizing: border-box;padding-bottom: 0.4em;background-color: white;}#sk-container-id-22 div.sk-label label {font-family: monospace;font-weight: bold;display: inline-block;line-height: 1.2em;}#sk-container-id-22 div.sk-label-container {text-align: center;}#sk-container-id-22 div.sk-container {/* jupyter's `normalize.less` sets `[hidden] { display: none; }` but bootstrap.min.css set `[hidden] { display: none !important; }` so we also need the `!important` here to be able to override the default hidden behavior on the sphinx rendered scikit-learn.org. See: https://github.com/scikit-learn/scikit-learn/issues/21755 */display: inline-block !important;position: relative;}#sk-container-id-22 div.sk-text-repr-fallback {display: none;}</style><div id=\"sk-container-id-22\" class=\"sk-top-container\"><div class=\"sk-text-repr-fallback\"><pre>DecisionTreeRegressor()</pre><b>In a Jupyter environment, please rerun this cell to show the HTML representation or trust the notebook. <br />On GitHub, the HTML representation is unable to render, please try loading this page with nbviewer.org.</b></div><div class=\"sk-container\" hidden><div class=\"sk-item\"><div class=\"sk-estimator sk-toggleable\"><input class=\"sk-toggleable__control sk-hidden--visually\" id=\"sk-estimator-id-22\" type=\"checkbox\" checked><label for=\"sk-estimator-id-22\" class=\"sk-toggleable__label sk-toggleable__label-arrow\">DecisionTreeRegressor</label><div class=\"sk-toggleable__content\"><pre>DecisionTreeRegressor()</pre></div></div></div></div></div>"
            ]
          },
          "metadata": {},
          "execution_count": 324
        }
      ],
      "source": [
        "model1= DecisionTreeRegressor(criterion='squared_error')\n",
        "model1.fit(x_train,y_train)"
      ]
    },
    {
      "cell_type": "code",
      "execution_count": 325,
      "metadata": {
        "id": "Kh8OW8GBVqFF",
        "colab": {
          "base_uri": "https://localhost:8080/"
        },
        "outputId": "8d98eb76-c504-4cc7-c011-846db10cad73"
      },
      "outputs": [
        {
          "output_type": "execute_result",
          "data": {
            "text/plain": [
              "0.9803600397864084"
            ]
          },
          "metadata": {},
          "execution_count": 325
        }
      ],
      "source": [
        "model1.score(x_train,y_train)"
      ]
    },
    {
      "cell_type": "code",
      "execution_count": 326,
      "metadata": {
        "id": "litF_y7Gg-Zd",
        "colab": {
          "base_uri": "https://localhost:8080/"
        },
        "outputId": "3458476a-501b-4027-cbb4-853bbff03406"
      },
      "outputs": [
        {
          "output_type": "execute_result",
          "data": {
            "text/plain": [
              "array([ 4.5, 16.9,  5.7, ...,  6.9,  4.5, 10.9])"
            ]
          },
          "metadata": {},
          "execution_count": 326
        }
      ],
      "source": [
        "y_predict_1=model1.predict(x_train)\n",
        "y_predict_1"
      ]
    },
    {
      "cell_type": "code",
      "execution_count": 327,
      "metadata": {
        "id": "A8Yas1bDhxY4",
        "colab": {
          "base_uri": "https://localhost:8080/"
        },
        "outputId": "dbd8b9c9-4ec4-4da5-e610-b055cfe0a111"
      },
      "outputs": [
        {
          "output_type": "execute_result",
          "data": {
            "text/plain": [
              "0.5864313044835349"
            ]
          },
          "metadata": {},
          "execution_count": 327
        }
      ],
      "source": [
        "mse_1=mean_squared_error(y_train,y_predict_1)\n",
        "mse_1"
      ]
    },
    {
      "cell_type": "code",
      "execution_count": 328,
      "metadata": {
        "id": "CuvRShtriNWu",
        "colab": {
          "base_uri": "https://localhost:8080/"
        },
        "outputId": "e38648ba-df5d-4151-f214-aecf87497baa"
      },
      "outputs": [
        {
          "output_type": "execute_result",
          "data": {
            "text/plain": [
              "0.9999999999988518"
            ]
          },
          "metadata": {},
          "execution_count": 328
        }
      ],
      "source": [
        "R_1=np.sqrt(1-mse_1/var)\n",
        "R_1"
      ]
    },
    {
      "cell_type": "markdown",
      "metadata": {
        "id": "6-7Myhe1gOcS"
      },
      "source": [
        "fare_amount_1=model1.predict(x_test)\n",
        "fare_amount_1"
      ]
    },
    {
      "cell_type": "code",
      "execution_count": 329,
      "metadata": {
        "colab": {
          "base_uri": "https://localhost:8080/",
          "height": 430
        },
        "id": "EegfIhLTXRFO",
        "outputId": "11c28dcf-c923-4de1-da8f-c57d12658189"
      },
      "outputs": [
        {
          "output_type": "display_data",
          "data": {
            "text/plain": [
              "<Figure size 640x480 with 1 Axes>"
            ],
            "image/png": "[encoded data removed]"
          },
          "metadata": {}
        }
      ],
      "source": [
        "plt.scatter(tf.longitude_of_pickup,y_train)\n",
        "plt.plot(tf.longitude_of_pickup,y_predict_1)\n",
        "plt.show()"
      ]
    },
    {
      "cell_type": "code",
      "execution_count": 330,
      "metadata": {
        "id": "QBh2lCLvi2YX"
      },
      "outputs": [],
      "source": [
        "from sklearn.ensemble import BaggingRegressor"
      ]
    },
    {
      "cell_type": "code",
      "execution_count": 331,
      "metadata": {
        "id": "d1nANCIJIraC",
        "colab": {
          "base_uri": "https://localhost:8080/",
          "height": 74
        },
        "outputId": "27757c35-527e-4dd2-c376-362c0947c820"
      },
      "outputs": [
        {
          "output_type": "execute_result",
          "data": {
            "text/plain": [
              "BaggingRegressor(n_estimators=200)"
            ],
            "text/html": [
              "<style>#sk-container-id-23 {color: black;background-color: white;}#sk-container-id-23 pre{padding: 0;}#sk-container-id-23 div.sk-toggleable {background-color: white;}#sk-container-id-23 label.sk-toggleable__label {cursor: pointer;display: block;width: 100%;margin-bottom: 0;padding: 0.3em;box-sizing: border-box;text-align: center;}#sk-container-id-23 label.sk-toggleable__label-arrow:before {content: \"▸\";float: left;margin-right: 0.25em;color: #696969;}#sk-container-id-23 label.sk-toggleable__label-arrow:hover:before {color: black;}#sk-container-id-23 div.sk-estimator:hover label.sk-toggleable__label-arrow:before {color: black;}#sk-container-id-23 div.sk-toggleable__content {max-height: 0;max-width: 0;overflow: hidden;text-align: left;background-color: #f0f8ff;}#sk-container-id-23 div.sk-toggleable__content pre {margin: 0.2em;color: black;border-radius: 0.25em;background-color: #f0f8ff;}#sk-container-id-23 input.sk-toggleable__control:checked~div.sk-toggleable__content {max-height: 200px;max-width: 100%;overflow: auto;}#sk-container-id-23 input.sk-toggleable__control:checked~label.sk-toggleable__label-arrow:before {content: \"▾\";}#sk-container-id-23 div.sk-estimator input.sk-toggleable__control:checked~label.sk-toggleable__label {background-color: #d4ebff;}#sk-container-id-23 div.sk-label input.sk-toggleable__control:checked~label.sk-toggleable__label {background-color: #d4ebff;}#sk-container-id-23 input.sk-hidden--visually {border: 0;clip: rect(1px 1px 1px 1px);clip: rect(1px, 1px, 1px, 1px);height: 1px;margin: -1px;overflow: hidden;padding: 0;position: absolute;width: 1px;}#sk-container-id-23 div.sk-estimator {font-family: monospace;background-color: #f0f8ff;border: 1px dotted black;border-radius: 0.25em;box-sizing: border-box;margin-bottom: 0.5em;}#sk-container-id-23 div.sk-estimator:hover {background-color: #d4ebff;}#sk-container-id-23 div.sk-parallel-item::after {content: \"\";width: 100%;border-bottom: 1px solid gray;flex-grow: 1;}#sk-container-id-23 div.sk-label:hover label.sk-toggleable__label {background-color: #d4ebff;}#sk-container-id-23 div.sk-serial::before {content: \"\";position: absolute;border-left: 1px solid gray;box-sizing: border-box;top: 0;bottom: 0;left: 50%;z-index: 0;}#sk-container-id-23 div.sk-serial {display: flex;flex-direction: column;align-items: center;background-color: white;padding-right: 0.2em;padding-left: 0.2em;position: relative;}#sk-container-id-23 div.sk-item {position: relative;z-index: 1;}#sk-container-id-23 div.sk-parallel {display: flex;align-items: stretch;justify-content: center;background-color: white;position: relative;}#sk-container-id-23 div.sk-item::before, #sk-container-id-23 div.sk-parallel-item::before {content: \"\";position: absolute;border-left: 1px solid gray;box-sizing: border-box;top: 0;bottom: 0;left: 50%;z-index: -1;}#sk-container-id-23 div.sk-parallel-item {display: flex;flex-direction: column;z-index: 1;position: relative;background-color: white;}#sk-container-id-23 div.sk-parallel-item:first-child::after {align-self: flex-end;width: 50%;}#sk-container-id-23 div.sk-parallel-item:last-child::after {align-self: flex-start;width: 50%;}#sk-container-id-23 div.sk-parallel-item:only-child::after {width: 0;}#sk-container-id-23 div.sk-dashed-wrapped {border: 1px dashed gray;margin: 0 0.4em 0.5em 0.4em;box-sizing: border-box;padding-bottom: 0.4em;background-color: white;}#sk-container-id-23 div.sk-label label {font-family: monospace;font-weight: bold;display: inline-block;line-height: 1.2em;}#sk-container-id-23 div.sk-label-container {text-align: center;}#sk-container-id-23 div.sk-container {/* jupyter's `normalize.less` sets `[hidden] { display: none; }` but bootstrap.min.css set `[hidden] { display: none !important; }` so we also need the `!important` here to be able to override the default hidden behavior on the sphinx rendered scikit-learn.org. See: https://github.com/scikit-learn/scikit-learn/issues/21755 */display: inline-block !important;position: relative;}#sk-container-id-23 div.sk-text-repr-fallback {display: none;}</style><div id=\"sk-container-id-23\" class=\"sk-top-container\"><div class=\"sk-text-repr-fallback\"><pre>BaggingRegressor(n_estimators=200)</pre><b>In a Jupyter environment, please rerun this cell to show the HTML representation or trust the notebook. <br />On GitHub, the HTML representation is unable to render, please try loading this page with nbviewer.org.</b></div><div class=\"sk-container\" hidden><div class=\"sk-item\"><div class=\"sk-estimator sk-toggleable\"><input class=\"sk-toggleable__control sk-hidden--visually\" id=\"sk-estimator-id-23\" type=\"checkbox\" checked><label for=\"sk-estimator-id-23\" class=\"sk-toggleable__label sk-toggleable__label-arrow\">BaggingRegressor</label><div class=\"sk-toggleable__content\"><pre>BaggingRegressor(n_estimators=200)</pre></div></div></div></div></div>"
            ]
          },
          "metadata": {},
          "execution_count": 331
        }
      ],
      "source": [
        "model2=BaggingRegressor(n_estimators=200)\n",
        "model2.fit(x_train,y_train)"
      ]
    },
    {
      "cell_type": "code",
      "execution_count": 332,
      "metadata": {
        "id": "3AzRhs9KEJxe",
        "colab": {
          "base_uri": "https://localhost:8080/"
        },
        "outputId": "163fd0bb-8353-491f-9fcb-e4e11f6a4dd3"
      },
      "outputs": [
        {
          "output_type": "execute_result",
          "data": {
            "text/plain": [
              "0.9517334827793805"
            ]
          },
          "metadata": {},
          "execution_count": 332
        }
      ],
      "source": [
        "model2.score(x_train,y_train)"
      ]
    },
    {
      "cell_type": "code",
      "execution_count": 333,
      "metadata": {
        "id": "hJ2pmSTUEZbL",
        "colab": {
          "base_uri": "https://localhost:8080/"
        },
        "outputId": "c0fb6605-7afe-4885-dd1e-409f02f07152"
      },
      "outputs": [
        {
          "output_type": "execute_result",
          "data": {
            "text/plain": [
              "array([ 5.906  , 17.63275,  5.978  , ...,  8.0225 ,  4.6275 ,  8.99655])"
            ]
          },
          "metadata": {},
          "execution_count": 333
        }
      ],
      "source": [
        "y_predict_2=model2.predict(x_train)\n",
        "y_predict_2"
      ]
    },
    {
      "cell_type": "code",
      "execution_count": 334,
      "metadata": {
        "id": "s1MHyoHuE8WF",
        "colab": {
          "base_uri": "https://localhost:8080/"
        },
        "outputId": "76f54e16-80cd-46d5-ba2b-75ef278629e6"
      },
      "outputs": [
        {
          "output_type": "execute_result",
          "data": {
            "text/plain": [
              "1.4411941953414318"
            ]
          },
          "metadata": {},
          "execution_count": 334
        }
      ],
      "source": [
        "mse_2=mean_squared_error(y_train,y_predict_2)\n",
        "mse_2"
      ]
    },
    {
      "cell_type": "code",
      "execution_count": 335,
      "metadata": {
        "id": "NfVMEg2UFDxj",
        "colab": {
          "base_uri": "https://localhost:8080/"
        },
        "outputId": "00dcdfd0-fb13-4849-a919-92ef11be07f3"
      },
      "outputs": [
        {
          "output_type": "execute_result",
          "data": {
            "text/plain": [
              "0.9999999999971783"
            ]
          },
          "metadata": {},
          "execution_count": 335
        }
      ],
      "source": [
        "R_2=np.sqrt(1-mse_2/var)\n",
        "R_2"
      ]
    },
    {
      "cell_type": "code",
      "execution_count": 336,
      "metadata": {
        "id": "xeNDpP9UFQqv",
        "colab": {
          "base_uri": "https://localhost:8080/"
        },
        "outputId": "d260fc8c-034e-4148-d520-252f6dd2025d"
      },
      "outputs": [
        {
          "output_type": "execute_result",
          "data": {
            "text/plain": [
              "array([ 8.429  ,  9.177  ,  4.8875 , ..., 22.11025, 15.62   ,  6.604  ])"
            ]
          },
          "metadata": {},
          "execution_count": 336
        }
      ],
      "source": [
        "fare_amount_2=model2.predict(x_test)\n",
        "fare_amount_2"
      ]
    },
    {
      "cell_type": "code",
      "execution_count": 337,
      "metadata": {
        "id": "kuljE18JXa6A",
        "colab": {
          "base_uri": "https://localhost:8080/",
          "height": 430
        },
        "outputId": "04d2cd5b-addd-4311-a3b0-ab9ef1a29014"
      },
      "outputs": [
        {
          "output_type": "display_data",
          "data": {
            "text/plain": [
              "<Figure size 640x480 with 1 Axes>"
            ],
            "image/png": "[encoded data removed]"
          },
          "metadata": {}
        }
      ],
      "source": [
        "plt.scatter(tf.longitude_of_pickup,y_train)\n",
        "plt.plot(tf.longitude_of_pickup,y_predict_2)\n",
        "plt.show()"
      ]
    },
    {
      "cell_type": "code",
      "execution_count": 338,
      "metadata": {
        "id": "eOMU7FyQFyEa"
      },
      "outputs": [],
      "source": [
        "from sklearn.ensemble import AdaBoostRegressor"
      ]
    },
    {
      "cell_type": "code",
      "execution_count": 339,
      "metadata": {
        "id": "qoawvtP4KgPa",
        "colab": {
          "base_uri": "https://localhost:8080/",
          "height": 74
        },
        "outputId": "6f7d4954-5be0-4022-cf5a-3429d1c4a205"
      },
      "outputs": [
        {
          "output_type": "execute_result",
          "data": {
            "text/plain": [
              "AdaBoostRegressor(learning_rate=1e-06, n_estimators=2000)"
            ],
            "text/html": [
              "<style>#sk-container-id-24 {color: black;background-color: white;}#sk-container-id-24 pre{padding: 0;}#sk-container-id-24 div.sk-toggleable {background-color: white;}#sk-container-id-24 label.sk-toggleable__label {cursor: pointer;display: block;width: 100%;margin-bottom: 0;padding: 0.3em;box-sizing: border-box;text-align: center;}#sk-container-id-24 label.sk-toggleable__label-arrow:before {content: \"▸\";float: left;margin-right: 0.25em;color: #696969;}#sk-container-id-24 label.sk-toggleable__label-arrow:hover:before {color: black;}#sk-container-id-24 div.sk-estimator:hover label.sk-toggleable__label-arrow:before {color: black;}#sk-container-id-24 div.sk-toggleable__content {max-height: 0;max-width: 0;overflow: hidden;text-align: left;background-color: #f0f8ff;}#sk-container-id-24 div.sk-toggleable__content pre {margin: 0.2em;color: black;border-radius: 0.25em;background-color: #f0f8ff;}#sk-container-id-24 input.sk-toggleable__control:checked~div.sk-toggleable__content {max-height: 200px;max-width: 100%;overflow: auto;}#sk-container-id-24 input.sk-toggleable__control:checked~label.sk-toggleable__label-arrow:before {content: \"▾\";}#sk-container-id-24 div.sk-estimator input.sk-toggleable__control:checked~label.sk-toggleable__label {background-color: #d4ebff;}#sk-container-id-24 div.sk-label input.sk-toggleable__control:checked~label.sk-toggleable__label {background-color: #d4ebff;}#sk-container-id-24 input.sk-hidden--visually {border: 0;clip: rect(1px 1px 1px 1px);clip: rect(1px, 1px, 1px, 1px);height: 1px;margin: -1px;overflow: hidden;padding: 0;position: absolute;width: 1px;}#sk-container-id-24 div.sk-estimator {font-family: monospace;background-color: #f0f8ff;border: 1px dotted black;border-radius: 0.25em;box-sizing: border-box;margin-bottom: 0.5em;}#sk-container-id-24 div.sk-estimator:hover {background-color: #d4ebff;}#sk-container-id-24 div.sk-parallel-item::after {content: \"\";width: 100%;border-bottom: 1px solid gray;flex-grow: 1;}#sk-container-id-24 div.sk-label:hover label.sk-toggleable__label {background-color: #d4ebff;}#sk-container-id-24 div.sk-serial::before {content: \"\";position: absolute;border-left: 1px solid gray;box-sizing: border-box;top: 0;bottom: 0;left: 50%;z-index: 0;}#sk-container-id-24 div.sk-serial {display: flex;flex-direction: column;align-items: center;background-color: white;padding-right: 0.2em;padding-left: 0.2em;position: relative;}#sk-container-id-24 div.sk-item {position: relative;z-index: 1;}#sk-container-id-24 div.sk-parallel {display: flex;align-items: stretch;justify-content: center;background-color: white;position: relative;}#sk-container-id-24 div.sk-item::before, #sk-container-id-24 div.sk-parallel-item::before {content: \"\";position: absolute;border-left: 1px solid gray;box-sizing: border-box;top: 0;bottom: 0;left: 50%;z-index: -1;}#sk-container-id-24 div.sk-parallel-item {display: flex;flex-direction: column;z-index: 1;position: relative;background-color: white;}#sk-container-id-24 div.sk-parallel-item:first-child::after {align-self: flex-end;width: 50%;}#sk-container-id-24 div.sk-parallel-item:last-child::after {align-self: flex-start;width: 50%;}#sk-container-id-24 div.sk-parallel-item:only-child::after {width: 0;}#sk-container-id-24 div.sk-dashed-wrapped {border: 1px dashed gray;margin: 0 0.4em 0.5em 0.4em;box-sizing: border-box;padding-bottom: 0.4em;background-color: white;}#sk-container-id-24 div.sk-label label {font-family: monospace;font-weight: bold;display: inline-block;line-height: 1.2em;}#sk-container-id-24 div.sk-label-container {text-align: center;}#sk-container-id-24 div.sk-container {/* jupyter's `normalize.less` sets `[hidden] { display: none; }` but bootstrap.min.css set `[hidden] { display: none !important; }` so we also need the `!important` here to be able to override the default hidden behavior on the sphinx rendered scikit-learn.org. See: https://github.com/scikit-learn/scikit-learn/issues/21755 */display: inline-block !important;position: relative;}#sk-container-id-24 div.sk-text-repr-fallback {display: none;}</style><div id=\"sk-container-id-24\" class=\"sk-top-container\"><div class=\"sk-text-repr-fallback\"><pre>AdaBoostRegressor(learning_rate=1e-06, n_estimators=2000)</pre><b>In a Jupyter environment, please rerun this cell to show the HTML representation or trust the notebook. <br />On GitHub, the HTML representation is unable to render, please try loading this page with nbviewer.org.</b></div><div class=\"sk-container\" hidden><div class=\"sk-item\"><div class=\"sk-estimator sk-toggleable\"><input class=\"sk-toggleable__control sk-hidden--visually\" id=\"sk-estimator-id-24\" type=\"checkbox\" checked><label for=\"sk-estimator-id-24\" class=\"sk-toggleable__label sk-toggleable__label-arrow\">AdaBoostRegressor</label><div class=\"sk-toggleable__content\"><pre>AdaBoostRegressor(learning_rate=1e-06, n_estimators=2000)</pre></div></div></div></div></div>"
            ]
          },
          "metadata": {},
          "execution_count": 339
        }
      ],
      "source": [
        "model3=AdaBoostRegressor(n_estimators=2000,learning_rate=0.000001)\n",
        "model3.fit(x_train,y_train)"
      ]
    },
    {
      "cell_type": "code",
      "execution_count": 340,
      "metadata": {
        "id": "xaqAq2nDLTIF",
        "colab": {
          "base_uri": "https://localhost:8080/"
        },
        "outputId": "aad91943-6fa7-44d8-c68b-0755d8889a27"
      },
      "outputs": [
        {
          "output_type": "execute_result",
          "data": {
            "text/plain": [
              "0.36111518822051203"
            ]
          },
          "metadata": {},
          "execution_count": 340
        }
      ],
      "source": [
        "model3.score(x_train,y_train)"
      ]
    },
    {
      "cell_type": "code",
      "execution_count": 341,
      "metadata": {
        "id": "sKUvF7q7LYo-",
        "colab": {
          "base_uri": "https://localhost:8080/"
        },
        "outputId": "078db729-be12-4b3b-87b5-ed868c730f19"
      },
      "outputs": [
        {
          "output_type": "execute_result",
          "data": {
            "text/plain": [
              "array([13.64029271,  8.76547388,  8.76547388, ...,  8.76547388,\n",
              "        8.76547388, 13.64029271])"
            ]
          },
          "metadata": {},
          "execution_count": 341
        }
      ],
      "source": [
        "y_predict_3=model3.predict(x_train)\n",
        "y_predict_3"
      ]
    },
    {
      "cell_type": "code",
      "execution_count": 342,
      "metadata": {
        "id": "s9AN__YwLiRB",
        "colab": {
          "base_uri": "https://localhost:8080/"
        },
        "outputId": "dbeacaa8-b517-483e-c148-30ceac4a04d8"
      },
      "outputs": [
        {
          "output_type": "execute_result",
          "data": {
            "text/plain": [
              "19.07651795176664"
            ]
          },
          "metadata": {},
          "execution_count": 342
        }
      ],
      "source": [
        "mse_3=mean_squared_error(y_train,y_predict_3)\n",
        "mse_3"
      ]
    },
    {
      "cell_type": "code",
      "execution_count": 343,
      "metadata": {
        "id": "xYt1bDy9Lpss",
        "colab": {
          "base_uri": "https://localhost:8080/"
        },
        "outputId": "3a57371d-8be2-40cd-8d76-5d16cdccf851"
      },
      "outputs": [
        {
          "output_type": "execute_result",
          "data": {
            "text/plain": [
              "0.9999999999626499"
            ]
          },
          "metadata": {},
          "execution_count": 343
        }
      ],
      "source": [
        "R_3=np.sqrt(1-mse_3/var)\n",
        "R_3"
      ]
    },
    {
      "cell_type": "code",
      "execution_count": 344,
      "metadata": {
        "id": "8_xtGqYzLvS2",
        "colab": {
          "base_uri": "https://localhost:8080/"
        },
        "outputId": "1c602137-ae8c-45b6-b47e-4d963755bd79"
      },
      "outputs": [
        {
          "output_type": "execute_result",
          "data": {
            "text/plain": [
              "array([ 8.76547388,  8.76547388,  8.76547388, ..., 21.54620954,\n",
              "       17.57859562,  8.76547388])"
            ]
          },
          "metadata": {},
          "execution_count": 344
        }
      ],
      "source": [
        "fare_amount_3=model3.predict(x_test)\n",
        "fare_amount_3"
      ]
    },
    {
      "cell_type": "code",
      "execution_count": 345,
      "metadata": {
        "id": "q8Q3IeuQXf3V",
        "colab": {
          "base_uri": "https://localhost:8080/",
          "height": 430
        },
        "outputId": "9e91a453-c36d-405c-ddcf-f168ae5b951b"
      },
      "outputs": [
        {
          "output_type": "display_data",
          "data": {
            "text/plain": [
              "<Figure size 640x480 with 1 Axes>"
            ],
            "image/png": "[encoded data removed]"
          },
          "metadata": {}
        }
      ],
      "source": [
        "plt.scatter(tf.longitude_of_pickup,y_train)\n",
        "plt.plot(tf.longitude_of_pickup,y_predict_3)\n",
        "plt.show()"
      ]
    },
    {
      "cell_type": "code",
      "execution_count": 346,
      "metadata": {
        "id": "kycaHFh7PrIh"
      },
      "outputs": [],
      "source": [
        "from sklearn.svm import SVR"
      ]
    },
    {
      "cell_type": "code",
      "execution_count": 347,
      "metadata": {
        "id": "PgbA5nnRP1VM",
        "colab": {
          "base_uri": "https://localhost:8080/",
          "height": 74
        },
        "outputId": "d8fee105-26c6-4e5f-abcf-7eb849aff630"
      },
      "outputs": [
        {
          "output_type": "execute_result",
          "data": {
            "text/plain": [
              "SVR()"
            ],
            "text/html": [
              "<style>#sk-container-id-25 {color: black;background-color: white;}#sk-container-id-25 pre{padding: 0;}#sk-container-id-25 div.sk-toggleable {background-color: white;}#sk-container-id-25 label.sk-toggleable__label {cursor: pointer;display: block;width: 100%;margin-bottom: 0;padding: 0.3em;box-sizing: border-box;text-align: center;}#sk-container-id-25 label.sk-toggleable__label-arrow:before {content: \"▸\";float: left;margin-right: 0.25em;color: #696969;}#sk-container-id-25 label.sk-toggleable__label-arrow:hover:before {color: black;}#sk-container-id-25 div.sk-estimator:hover label.sk-toggleable__label-arrow:before {color: black;}#sk-container-id-25 div.sk-toggleable__content {max-height: 0;max-width: 0;overflow: hidden;text-align: left;background-color: #f0f8ff;}#sk-container-id-25 div.sk-toggleable__content pre {margin: 0.2em;color: black;border-radius: 0.25em;background-color: #f0f8ff;}#sk-container-id-25 input.sk-toggleable__control:checked~div.sk-toggleable__content {max-height: 200px;max-width: 100%;overflow: auto;}#sk-container-id-25 input.sk-toggleable__control:checked~label.sk-toggleable__label-arrow:before {content: \"▾\";}#sk-container-id-25 div.sk-estimator input.sk-toggleable__control:checked~label.sk-toggleable__label {background-color: #d4ebff;}#sk-container-id-25 div.sk-label input.sk-toggleable__control:checked~label.sk-toggleable__label {background-color: #d4ebff;}#sk-container-id-25 input.sk-hidden--visually {border: 0;clip: rect(1px 1px 1px 1px);clip: rect(1px, 1px, 1px, 1px);height: 1px;margin: -1px;overflow: hidden;padding: 0;position: absolute;width: 1px;}#sk-container-id-25 div.sk-estimator {font-family: monospace;background-color: #f0f8ff;border: 1px dotted black;border-radius: 0.25em;box-sizing: border-box;margin-bottom: 0.5em;}#sk-container-id-25 div.sk-estimator:hover {background-color: #d4ebff;}#sk-container-id-25 div.sk-parallel-item::after {content: \"\";width: 100%;border-bottom: 1px solid gray;flex-grow: 1;}#sk-container-id-25 div.sk-label:hover label.sk-toggleable__label {background-color: #d4ebff;}#sk-container-id-25 div.sk-serial::before {content: \"\";position: absolute;border-left: 1px solid gray;box-sizing: border-box;top: 0;bottom: 0;left: 50%;z-index: 0;}#sk-container-id-25 div.sk-serial {display: flex;flex-direction: column;align-items: center;background-color: white;padding-right: 0.2em;padding-left: 0.2em;position: relative;}#sk-container-id-25 div.sk-item {position: relative;z-index: 1;}#sk-container-id-25 div.sk-parallel {display: flex;align-items: stretch;justify-content: center;background-color: white;position: relative;}#sk-container-id-25 div.sk-item::before, #sk-container-id-25 div.sk-parallel-item::before {content: \"\";position: absolute;border-left: 1px solid gray;box-sizing: border-box;top: 0;bottom: 0;left: 50%;z-index: -1;}#sk-container-id-25 div.sk-parallel-item {display: flex;flex-direction: column;z-index: 1;position: relative;background-color: white;}#sk-container-id-25 div.sk-parallel-item:first-child::after {align-self: flex-end;width: 50%;}#sk-container-id-25 div.sk-parallel-item:last-child::after {align-self: flex-start;width: 50%;}#sk-container-id-25 div.sk-parallel-item:only-child::after {width: 0;}#sk-container-id-25 div.sk-dashed-wrapped {border: 1px dashed gray;margin: 0 0.4em 0.5em 0.4em;box-sizing: border-box;padding-bottom: 0.4em;background-color: white;}#sk-container-id-25 div.sk-label label {font-family: monospace;font-weight: bold;display: inline-block;line-height: 1.2em;}#sk-container-id-25 div.sk-label-container {text-align: center;}#sk-container-id-25 div.sk-container {/* jupyter's `normalize.less` sets `[hidden] { display: none; }` but bootstrap.min.css set `[hidden] { display: none !important; }` so we also need the `!important` here to be able to override the default hidden behavior on the sphinx rendered scikit-learn.org. See: https://github.com/scikit-learn/scikit-learn/issues/21755 */display: inline-block !important;position: relative;}#sk-container-id-25 div.sk-text-repr-fallback {display: none;}</style><div id=\"sk-container-id-25\" class=\"sk-top-container\"><div class=\"sk-text-repr-fallback\"><pre>SVR()</pre><b>In a Jupyter environment, please rerun this cell to show the HTML representation or trust the notebook. <br />On GitHub, the HTML representation is unable to render, please try loading this page with nbviewer.org.</b></div><div class=\"sk-container\" hidden><div class=\"sk-item\"><div class=\"sk-estimator sk-toggleable\"><input class=\"sk-toggleable__control sk-hidden--visually\" id=\"sk-estimator-id-25\" type=\"checkbox\" checked><label for=\"sk-estimator-id-25\" class=\"sk-toggleable__label sk-toggleable__label-arrow\">SVR</label><div class=\"sk-toggleable__content\"><pre>SVR()</pre></div></div></div></div></div>"
            ]
          },
          "metadata": {},
          "execution_count": 347
        }
      ],
      "source": [
        "model4=SVR()\n",
        "model4.fit(x_train,y_train)"
      ]
    },
    {
      "cell_type": "code",
      "execution_count": 348,
      "metadata": {
        "id": "7NkMw6g1Qopy",
        "colab": {
          "base_uri": "https://localhost:8080/"
        },
        "outputId": "55f46c69-dbbb-4138-f0a0-9076a670e6b5"
      },
      "outputs": [
        {
          "output_type": "execute_result",
          "data": {
            "text/plain": [
              "-0.09402565831113918"
            ]
          },
          "metadata": {},
          "execution_count": 348
        }
      ],
      "source": [
        "model4.score(x_train,y_train)"
      ]
    },
    {
      "cell_type": "code",
      "execution_count": 349,
      "metadata": {
        "colab": {
          "base_uri": "https://localhost:8080/"
        },
        "id": "auTsMa4PSKkL",
        "outputId": "edd45404-df41-424f-f9b4-86660e6833bc"
      },
      "outputs": [
        {
          "output_type": "execute_result",
          "data": {
            "text/plain": [
              "array([8.40673818, 8.3993685 , 8.43921734, ..., 8.39882285, 8.44151125,\n",
              "       8.40224971])"
            ]
          },
          "metadata": {},
          "execution_count": 349
        }
      ],
      "source": [
        "y_predict_4=model4.predict(x_train)\n",
        "y_predict_4"
      ]
    },
    {
      "cell_type": "code",
      "execution_count": 350,
      "metadata": {
        "colab": {
          "base_uri": "https://localhost:8080/"
        },
        "id": "ED41Na4zS7QC",
        "outputId": "58d79e3d-9c2c-4685-b921-c31410b41929"
      },
      "outputs": [
        {
          "output_type": "execute_result",
          "data": {
            "text/plain": [
              "32.66660863690893"
            ]
          },
          "metadata": {},
          "execution_count": 350
        }
      ],
      "source": [
        "mse_4=mean_squared_error(y_train,y_predict_4)\n",
        "mse_4"
      ]
    },
    {
      "cell_type": "code",
      "execution_count": 351,
      "metadata": {
        "colab": {
          "base_uri": "https://localhost:8080/"
        },
        "id": "ScGwaMsrTB1a",
        "outputId": "901ee8b4-ba7a-4f2b-ddaf-31a00c135628"
      },
      "outputs": [
        {
          "output_type": "execute_result",
          "data": {
            "text/plain": [
              "0.9999999999360418"
            ]
          },
          "metadata": {},
          "execution_count": 351
        }
      ],
      "source": [
        "R_4=np.sqrt(1-mse_4/var)\n",
        "R_4"
      ]
    },
    {
      "cell_type": "code",
      "execution_count": 352,
      "metadata": {
        "id": "okjo9rb_THkw",
        "colab": {
          "base_uri": "https://localhost:8080/"
        },
        "outputId": "f155b16f-2672-4bfe-9d7e-2fdbe17f7384"
      },
      "outputs": [
        {
          "output_type": "execute_result",
          "data": {
            "text/plain": [
              "array([8.39956839, 8.39941191, 8.399447  , ..., 8.60000362, 8.60134523,\n",
              "       8.59940581])"
            ]
          },
          "metadata": {},
          "execution_count": 352
        }
      ],
      "source": [
        "fare_amount_4=model4.predict(x_test)\n",
        "fare_amount_4"
      ]
    },
    {
      "cell_type": "code",
      "execution_count": 353,
      "metadata": {
        "colab": {
          "base_uri": "https://localhost:8080/",
          "height": 430
        },
        "id": "Qm0TN1mAXj_e",
        "outputId": "1b166627-2ab6-4016-bc97-23a382a4edc6"
      },
      "outputs": [
        {
          "output_type": "display_data",
          "data": {
            "text/plain": [
              "<Figure size 640x480 with 1 Axes>"
            ],
            "image/png": "[encoded data removed]"
          },
          "metadata": {}
        }
      ],
      "source": [
        "plt.scatter(tf.longitude_of_pickup,y_train)\n",
        "plt.plot(tf.longitude_of_pickup,y_predict_4)\n",
        "plt.show()"
      ]
    },
    {
      "cell_type": "code",
      "execution_count": 354,
      "metadata": {
        "colab": {
          "base_uri": "https://localhost:8080/"
        },
        "id": "nGDkkemeVCuZ",
        "outputId": "7abf528e-86e3-4bc8-ca92-34e12d81d5c0"
      },
      "outputs": [
        {
          "output_type": "execute_result",
          "data": {
            "text/plain": [
              "0       2015-01-27 13:08:24.0000002\n",
              "1       2015-01-27 13:08:24.0000003\n",
              "2       2011-10-08 11:53:44.0000002\n",
              "3       2012-12-01 21:12:12.0000002\n",
              "4       2012-12-01 21:12:12.0000003\n",
              "                   ...             \n",
              "9909    2015-05-10 12:37:51.0000002\n",
              "9910    2015-01-12 17:05:51.0000001\n",
              "9911    2015-04-19 20:44:15.0000001\n",
              "9912    2015-01-31 01:05:19.0000005\n",
              "9913    2015-01-18 14:06:23.0000006\n",
              "Name: key, Length: 9914, dtype: object"
            ]
          },
          "metadata": {},
          "execution_count": 354
        }
      ],
      "source": [
        "key=tf_1[\"key\"]\n",
        "key"
      ]
    },
    {
      "cell_type": "code",
      "execution_count": 355,
      "metadata": {
        "id": "z85Q64gwVJLH"
      },
      "outputs": [],
      "source": [
        "sub=key.to_frame()\n",
        "sub.insert(1,\"fare_amount\",fare_amount,True)\n",
        "sub.to_csv(\"NYC TAXI FARE.csv\")"
      ]
    }
  ],
  "metadata": {
    "colab": {
      "provenance": []
    },
    "kernelspec": {
      "display_name": "Python 3",
      "name": "python3"
    },
    "language_info": {
      "name": "python"
    }
  },
  "nbformat": 4,
  "nbformat_minor": 0
}